{
 "cells": [
  {
   "cell_type": "markdown",
   "id": "19e86022",
   "metadata": {},
   "source": [
    "# Model Ranking and Select the Best Model\n",
    "- Aggregates evaluation results from all trained models -\n",
    "\n",
    "    - Arima (auto_arima optimization)\n",
    "    - XGBoost (optuna optimization)\n",
    "    - LSTM (Neural Network)\n",
    "\n",
    "- compares their performance metrics and identifies the best-performing model.\n",
    "\n",
    "Once the best model is selected, we'll performs error analysis and visualizes performance through plots.\n",
    "\n",
    "- Purpose:\n",
    "\n",
    "    - Provide a unified comparison of all candidate models\n",
    "    - Select the most suitable model for deployment\n",
    "    - Conduct error analysis and performance visualization for the chosen model"
   ]
  },
  {
   "cell_type": "markdown",
   "id": "891bffe4",
   "metadata": {},
   "source": [
    "# Root Configuration"
   ]
  },
  {
   "cell_type": "code",
   "execution_count": 1,
   "id": "9e0a1bb2",
   "metadata": {},
   "outputs": [],
   "source": [
    "import sys\n",
    "import os\n",
    "from pathlib import Path\n",
    "\n",
    "# get project root as parent of current working directory\n",
    "project_root = Path(os.getcwd()).parent\n",
    "\n",
    "if str(project_root) not in sys.path:\n",
    "    sys.path.insert(0, str(project_root))"
   ]
  },
  {
   "cell_type": "markdown",
   "id": "a1a4826e",
   "metadata": {},
   "source": [
    "# Libraries"
   ]
  },
  {
   "cell_type": "code",
   "execution_count": 2,
   "id": "4a24264e",
   "metadata": {},
   "outputs": [],
   "source": [
    "import warnings\n",
    "warnings.filterwarnings(\"ignore\")\n",
    "\n",
    "import numpy as np\n",
    "import pandas as pd\n",
    "import matplotlib.pyplot as plt\n",
    "import seaborn as sns\n",
    "\n",
    "from pathlib import Path"
   ]
  },
  {
   "cell_type": "markdown",
   "id": "8a76c275",
   "metadata": {},
   "source": [
    "# Model Comparison"
   ]
  },
  {
   "cell_type": "markdown",
   "id": "f03e00d1",
   "metadata": {},
   "source": [
    "## Metrics Overview"
   ]
  },
  {
   "cell_type": "code",
   "execution_count": 3,
   "id": "6c0d6bc5",
   "metadata": {},
   "outputs": [],
   "source": [
    "# model performance path\n",
    "model_performance_dir = Path(r\"../artifacts/model-performance\")\n",
    "\n",
    "# performance files\n",
    "model_performance = pd.read_csv(model_performance_dir / \"a_ModelPerformance.csv\")\n",
    "overfitting_analysis = pd.read_csv(model_performance_dir / \"a_OverfittingAnalysis.csv\")"
   ]
  },
  {
   "cell_type": "code",
   "execution_count": 4,
   "id": "212f06a6",
   "metadata": {},
   "outputs": [
    {
     "name": "stdout",
     "output_type": "stream",
     "text": [
      "                                 === TABLE 4: OVERALL MODELS PERFORMANCE ===                                  \n"
     ]
    },
    {
     "data": {
      "text/html": [
       "<div>\n",
       "<style scoped>\n",
       "    .dataframe tbody tr th:only-of-type {\n",
       "        vertical-align: middle;\n",
       "    }\n",
       "\n",
       "    .dataframe tbody tr th {\n",
       "        vertical-align: top;\n",
       "    }\n",
       "\n",
       "    .dataframe thead th {\n",
       "        text-align: right;\n",
       "    }\n",
       "</style>\n",
       "<table border=\"1\" class=\"dataframe\">\n",
       "  <thead>\n",
       "    <tr style=\"text-align: right;\">\n",
       "      <th></th>\n",
       "      <th>Model</th>\n",
       "      <th>Test MAE</th>\n",
       "      <th>Test R2-Score</th>\n",
       "      <th>Test MAPE</th>\n",
       "      <th>CV MAE</th>\n",
       "      <th>CV R2</th>\n",
       "      <th>CV MAPE</th>\n",
       "      <th>RMSE Increase</th>\n",
       "      <th>Overfitting Ratio</th>\n",
       "    </tr>\n",
       "  </thead>\n",
       "  <tbody>\n",
       "    <tr>\n",
       "      <th>0</th>\n",
       "      <td>Arima</td>\n",
       "      <td>24.663</td>\n",
       "      <td>-0.071</td>\n",
       "      <td>12.540</td>\n",
       "      <td>121.647</td>\n",
       "      <td>-48.653</td>\n",
       "      <td>84.104</td>\n",
       "      <td>-104.375</td>\n",
       "      <td>0.234</td>\n",
       "    </tr>\n",
       "    <tr>\n",
       "      <th>1</th>\n",
       "      <td>XGBoost</td>\n",
       "      <td>53.752</td>\n",
       "      <td>-4.351</td>\n",
       "      <td>38.378</td>\n",
       "      <td>6.272</td>\n",
       "      <td>0.294</td>\n",
       "      <td>9.406</td>\n",
       "      <td>49.399</td>\n",
       "      <td>5.913</td>\n",
       "    </tr>\n",
       "    <tr>\n",
       "      <th>2</th>\n",
       "      <td>LSTM</td>\n",
       "      <td>7.595</td>\n",
       "      <td>0.919</td>\n",
       "      <td>4.117</td>\n",
       "      <td>0.070</td>\n",
       "      <td>-0.191</td>\n",
       "      <td>12.897</td>\n",
       "      <td>8.624</td>\n",
       "      <td>101.567</td>\n",
       "    </tr>\n",
       "  </tbody>\n",
       "</table>\n",
       "</div>"
      ],
      "text/plain": [
       "     Model  Test MAE  Test R2-Score  Test MAPE   CV MAE   CV R2  CV MAPE  \\\n",
       "0    Arima    24.663         -0.071     12.540  121.647 -48.653   84.104   \n",
       "1  XGBoost    53.752         -4.351     38.378    6.272   0.294    9.406   \n",
       "2     LSTM     7.595          0.919      4.117    0.070  -0.191   12.897   \n",
       "\n",
       "   RMSE Increase  Overfitting Ratio  \n",
       "0       -104.375              0.234  \n",
       "1         49.399              5.913  \n",
       "2          8.624            101.567  "
      ]
     },
     "metadata": {},
     "output_type": "display_data"
    }
   ],
   "source": [
    "# Table 1: All Models Performance\n",
    "print(\"=== TABLE 4: OVERALL MODELS PERFORMANCE ===\".center(110))\n",
    "display(model_performance)"
   ]
  },
  {
   "cell_type": "code",
   "execution_count": 5,
   "id": "f06bbe04",
   "metadata": {},
   "outputs": [
    {
     "name": "stdout",
     "output_type": "stream",
     "text": [
      "                === TABLE 2: OVERFITTING ANALYSIS ===                 \n"
     ]
    },
    {
     "data": {
      "text/html": [
       "<div>\n",
       "<style scoped>\n",
       "    .dataframe tbody tr th:only-of-type {\n",
       "        vertical-align: middle;\n",
       "    }\n",
       "\n",
       "    .dataframe tbody tr th {\n",
       "        vertical-align: top;\n",
       "    }\n",
       "\n",
       "    .dataframe thead th {\n",
       "        text-align: right;\n",
       "    }\n",
       "</style>\n",
       "<table border=\"1\" class=\"dataframe\">\n",
       "  <thead>\n",
       "    <tr style=\"text-align: right;\">\n",
       "      <th></th>\n",
       "      <th>Model</th>\n",
       "      <th>CV_RMSE</th>\n",
       "      <th>Test_RMSE</th>\n",
       "      <th>RMSE_Increase</th>\n",
       "      <th>Overfitting_Ratio</th>\n",
       "    </tr>\n",
       "  </thead>\n",
       "  <tbody>\n",
       "    <tr>\n",
       "      <th>0</th>\n",
       "      <td>Arima</td>\n",
       "      <td>136.202</td>\n",
       "      <td>31.828</td>\n",
       "      <td>-104.375</td>\n",
       "      <td>0.234</td>\n",
       "    </tr>\n",
       "    <tr>\n",
       "      <th>1</th>\n",
       "      <td>XGBoost</td>\n",
       "      <td>10.055</td>\n",
       "      <td>59.453</td>\n",
       "      <td>49.399</td>\n",
       "      <td>5.913</td>\n",
       "    </tr>\n",
       "    <tr>\n",
       "      <th>2</th>\n",
       "      <td>LSTM</td>\n",
       "      <td>0.086</td>\n",
       "      <td>8.710</td>\n",
       "      <td>8.624</td>\n",
       "      <td>101.567</td>\n",
       "    </tr>\n",
       "  </tbody>\n",
       "</table>\n",
       "</div>"
      ],
      "text/plain": [
       "     Model  CV_RMSE  Test_RMSE  RMSE_Increase  Overfitting_Ratio\n",
       "0    Arima  136.202     31.828       -104.375              0.234\n",
       "1  XGBoost   10.055     59.453         49.399              5.913\n",
       "2     LSTM    0.086      8.710          8.624            101.567"
      ]
     },
     "metadata": {},
     "output_type": "display_data"
    }
   ],
   "source": [
    "# Table 2: Overfitting Analysis\n",
    "print(\"=== TABLE 2: OVERFITTING ANALYSIS ===\".center(70))\n",
    "display(overfitting_analysis)"
   ]
  },
  {
   "cell_type": "code",
   "execution_count": 6,
   "id": "5400484b",
   "metadata": {},
   "outputs": [
    {
     "name": "stdout",
     "output_type": "stream",
     "text": [
      "                                       === TABLE 3: MODELS RANKING ===                                        \n"
     ]
    },
    {
     "data": {
      "text/html": [
       "<div>\n",
       "<style scoped>\n",
       "    .dataframe tbody tr th:only-of-type {\n",
       "        vertical-align: middle;\n",
       "    }\n",
       "\n",
       "    .dataframe tbody tr th {\n",
       "        vertical-align: top;\n",
       "    }\n",
       "\n",
       "    .dataframe thead th {\n",
       "        text-align: right;\n",
       "    }\n",
       "</style>\n",
       "<table border=\"1\" class=\"dataframe\">\n",
       "  <thead>\n",
       "    <tr style=\"text-align: right;\">\n",
       "      <th></th>\n",
       "      <th>Model</th>\n",
       "      <th>Test MAE</th>\n",
       "      <th>Test R2-Score</th>\n",
       "      <th>Test MAPE</th>\n",
       "      <th>CV MAE</th>\n",
       "      <th>CV R2</th>\n",
       "      <th>CV MAPE</th>\n",
       "      <th>RMSE Increase</th>\n",
       "      <th>Overfitting Ratio</th>\n",
       "    </tr>\n",
       "  </thead>\n",
       "  <tbody>\n",
       "    <tr>\n",
       "      <th>0</th>\n",
       "      <td>LSTM</td>\n",
       "      <td>7.595</td>\n",
       "      <td>0.919</td>\n",
       "      <td>4.117</td>\n",
       "      <td>0.070</td>\n",
       "      <td>-0.191</td>\n",
       "      <td>12.897</td>\n",
       "      <td>8.624</td>\n",
       "      <td>101.567</td>\n",
       "    </tr>\n",
       "    <tr>\n",
       "      <th>1</th>\n",
       "      <td>Arima</td>\n",
       "      <td>24.663</td>\n",
       "      <td>-0.071</td>\n",
       "      <td>12.540</td>\n",
       "      <td>121.647</td>\n",
       "      <td>-48.653</td>\n",
       "      <td>84.104</td>\n",
       "      <td>-104.375</td>\n",
       "      <td>0.234</td>\n",
       "    </tr>\n",
       "    <tr>\n",
       "      <th>2</th>\n",
       "      <td>XGBoost</td>\n",
       "      <td>53.752</td>\n",
       "      <td>-4.351</td>\n",
       "      <td>38.378</td>\n",
       "      <td>6.272</td>\n",
       "      <td>0.294</td>\n",
       "      <td>9.406</td>\n",
       "      <td>49.399</td>\n",
       "      <td>5.913</td>\n",
       "    </tr>\n",
       "  </tbody>\n",
       "</table>\n",
       "</div>"
      ],
      "text/plain": [
       "     Model  Test MAE  Test R2-Score  Test MAPE   CV MAE   CV R2  CV MAPE  \\\n",
       "0     LSTM     7.595          0.919      4.117    0.070  -0.191   12.897   \n",
       "1    Arima    24.663         -0.071     12.540  121.647 -48.653   84.104   \n",
       "2  XGBoost    53.752         -4.351     38.378    6.272   0.294    9.406   \n",
       "\n",
       "   RMSE Increase  Overfitting Ratio  \n",
       "0          8.624            101.567  \n",
       "1       -104.375              0.234  \n",
       "2         49.399              5.913  "
      ]
     },
     "metadata": {},
     "output_type": "display_data"
    }
   ],
   "source": [
    "# models ranking based on Test MAPE, Test MAE, CV MAPE\n",
    "model_ranking = model_performance.sort_values(by=['Test MAPE', 'Test MAE', 'CV MAPE'], ascending=True).reset_index(drop=True)\n",
    "\n",
    "print(\"=== TABLE 3: MODELS RANKING ===\".center(110))\n",
    "display(model_ranking)\n"
   ]
  },
  {
   "cell_type": "markdown",
   "id": "94dc5c36",
   "metadata": {},
   "source": [
    "## Visualize Comparison"
   ]
  },
  {
   "cell_type": "code",
   "execution_count": null,
   "id": "202ca250",
   "metadata": {},
   "outputs": [],
   "source": []
  }
 ],
 "metadata": {
  "kernelspec": {
   "display_name": "Python 3",
   "language": "python",
   "name": "python3"
  },
  "language_info": {
   "codemirror_mode": {
    "name": "ipython",
    "version": 3
   },
   "file_extension": ".py",
   "mimetype": "text/x-python",
   "name": "python",
   "nbconvert_exporter": "python",
   "pygments_lexer": "ipython3",
   "version": "3.10.0"
  }
 },
 "nbformat": 4,
 "nbformat_minor": 5
}

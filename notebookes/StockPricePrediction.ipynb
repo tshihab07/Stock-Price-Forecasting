{
 "cells": [
  {
   "cell_type": "markdown",
   "id": "8d23a33a",
   "metadata": {},
   "source": [
    "# Stock Price Forecasting\n",
    "\n",
    "This project explores machine learning techniques to predict stock price movements based on historical data. It includes data preprocessing, model training, evaluation, and visualization of results. The goal is to analyze patterns in stock prices and build predictive models that can provide useful insights for financial forecasting.\n",
    "\n",
    "---\n",
    "\n",
    "**Models:**\n",
    "- ARIMA (Statistical Model)\n",
    "- XGBoost (ML Model)\n",
    "- LSTM (Deep Learning Model)\n",
    "\n",
    "---\n",
    "\n",
    "**Author:** Md. Tushar Shihab<br>\n",
    "**Objective:** Predict next-day closing price using optimized models"
   ]
  },
  {
   "cell_type": "markdown",
   "id": "df85a764",
   "metadata": {},
   "source": [
    "# Imports Libraries & Configuration"
   ]
  },
  {
   "cell_type": "code",
   "execution_count": 1,
   "id": "40194f02",
   "metadata": {},
   "outputs": [],
   "source": [
    "\n",
    "# Suppress warnings for clean output\n",
    "import warnings\n",
    "warnings.filterwarnings(\"ignore\")\n",
    "\n",
    "# Core Python libraries\n",
    "import numpy as np\n",
    "import pandas as pd\n",
    "import yfinance as yf\n",
    "import matplotlib.pyplot as plt\n",
    "import seaborn as sns\n",
    "import joblib\n",
    "\n",
    "# Scikit-learn utilities for evaluation and preprocessing\n",
    "from sklearn.metrics import mean_squared_error, mean_absolute_error, r2_score\n",
    "from sklearn.preprocessing import MinMaxScaler\n",
    "from sklearn.model_selection import TimeSeriesSplit\n",
    "\n",
    "# Machine Learning models and optimization\n",
    "import xgboost as xgb\n",
    "import optuna\n",
    "\n",
    "# ARIMA models for time series forecasting\n",
    "from pmdarima import auto_arima\n",
    "from pmdarima.arima import ARIMA\n",
    "\n",
    "# Deep Learning with Keras (LSTM for sequential data like stock prices)\n",
    "import tensorflow as tf\n",
    "tf.get_logger().setLevel('ERROR')\n",
    "\n",
    "from tensorflow.keras.models import Sequential\n",
    "from tensorflow.keras.layers import LSTM, Dense, Dropout\n",
    "from tensorflow.keras.optimizers import Adam\n",
    "from tensorflow.keras.callbacks import EarlyStopping\n",
    "\n",
    "# Utility imports\n",
    "import datetime\n",
    "import os\n",
    "\n",
    "# Reproducibility setup\n",
    "np.random.seed(42)\n",
    "tf.random.set_seed(42)\n",
    "optuna.logging.set_verbosity(optuna.logging.WARNING)"
   ]
  },
  {
   "cell_type": "markdown",
   "id": "e7b867a4",
   "metadata": {},
   "source": [
    "# Load and Prepare Data"
   ]
  },
  {
   "cell_type": "code",
   "execution_count": 2,
   "id": "ba447bb8",
   "metadata": {},
   "outputs": [
    {
     "name": "stderr",
     "output_type": "stream",
     "text": [
      "[*********************100%***********************]  1 of 1 completed\n"
     ]
    }
   ],
   "source": [
    "# The stock we'll use for this analysis\n",
    "stock = 'AAPL'\n",
    "\n",
    "# data range for stock data\n",
    "start = '2012-01-01'\n",
    "end = '2024-12-31'\n",
    "\n",
    "# Download stock data using yfinance\n",
    "data = yf.download(stock, start, end)"
   ]
  },
  {
   "cell_type": "code",
   "execution_count": 3,
   "id": "9f692cd1",
   "metadata": {},
   "outputs": [
    {
     "data": {
      "text/html": [
       "<div>\n",
       "<style scoped>\n",
       "    .dataframe tbody tr th:only-of-type {\n",
       "        vertical-align: middle;\n",
       "    }\n",
       "\n",
       "    .dataframe tbody tr th {\n",
       "        vertical-align: top;\n",
       "    }\n",
       "\n",
       "    .dataframe thead tr th {\n",
       "        text-align: left;\n",
       "    }\n",
       "\n",
       "    .dataframe thead tr:last-of-type th {\n",
       "        text-align: right;\n",
       "    }\n",
       "</style>\n",
       "<table border=\"1\" class=\"dataframe\">\n",
       "  <thead>\n",
       "    <tr>\n",
       "      <th>Price</th>\n",
       "      <th>Close</th>\n",
       "      <th>High</th>\n",
       "      <th>Low</th>\n",
       "      <th>Open</th>\n",
       "      <th>Volume</th>\n",
       "    </tr>\n",
       "    <tr>\n",
       "      <th>Ticker</th>\n",
       "      <th>AAPL</th>\n",
       "      <th>AAPL</th>\n",
       "      <th>AAPL</th>\n",
       "      <th>AAPL</th>\n",
       "      <th>AAPL</th>\n",
       "    </tr>\n",
       "    <tr>\n",
       "      <th>Date</th>\n",
       "      <th></th>\n",
       "      <th></th>\n",
       "      <th></th>\n",
       "      <th></th>\n",
       "      <th></th>\n",
       "    </tr>\n",
       "  </thead>\n",
       "  <tbody>\n",
       "    <tr>\n",
       "      <th>2012-01-03</th>\n",
       "      <td>12.345172</td>\n",
       "      <td>12.383298</td>\n",
       "      <td>12.278228</td>\n",
       "      <td>12.290236</td>\n",
       "      <td>302220800</td>\n",
       "    </tr>\n",
       "    <tr>\n",
       "      <th>2012-01-04</th>\n",
       "      <td>12.411516</td>\n",
       "      <td>12.448742</td>\n",
       "      <td>12.286633</td>\n",
       "      <td>12.308247</td>\n",
       "      <td>260022000</td>\n",
       "    </tr>\n",
       "    <tr>\n",
       "      <th>2012-01-05</th>\n",
       "      <td>12.549310</td>\n",
       "      <td>12.564920</td>\n",
       "      <td>12.388401</td>\n",
       "      <td>12.456848</td>\n",
       "      <td>271269600</td>\n",
       "    </tr>\n",
       "    <tr>\n",
       "      <th>2012-01-06</th>\n",
       "      <td>12.680496</td>\n",
       "      <td>12.691003</td>\n",
       "      <td>12.585032</td>\n",
       "      <td>12.601544</td>\n",
       "      <td>318292800</td>\n",
       "    </tr>\n",
       "    <tr>\n",
       "      <th>2012-01-09</th>\n",
       "      <td>12.660384</td>\n",
       "      <td>12.841105</td>\n",
       "      <td>12.648976</td>\n",
       "      <td>12.773561</td>\n",
       "      <td>394024400</td>\n",
       "    </tr>\n",
       "  </tbody>\n",
       "</table>\n",
       "</div>"
      ],
      "text/plain": [
       "Price           Close       High        Low       Open     Volume\n",
       "Ticker           AAPL       AAPL       AAPL       AAPL       AAPL\n",
       "Date                                                             \n",
       "2012-01-03  12.345172  12.383298  12.278228  12.290236  302220800\n",
       "2012-01-04  12.411516  12.448742  12.286633  12.308247  260022000\n",
       "2012-01-05  12.549310  12.564920  12.388401  12.456848  271269600\n",
       "2012-01-06  12.680496  12.691003  12.585032  12.601544  318292800\n",
       "2012-01-09  12.660384  12.841105  12.648976  12.773561  394024400"
      ]
     },
     "execution_count": 3,
     "metadata": {},
     "output_type": "execute_result"
    }
   ],
   "source": [
    "# display data\n",
    "data.head()"
   ]
  },
  {
   "cell_type": "code",
   "execution_count": 4,
   "id": "e4202216",
   "metadata": {},
   "outputs": [
    {
     "data": {
      "text/plain": [
       "(3269, 5)"
      ]
     },
     "execution_count": 4,
     "metadata": {},
     "output_type": "execute_result"
    }
   ],
   "source": [
    "# shape of the dataset\n",
    "data.shape"
   ]
  },
  {
   "cell_type": "markdown",
   "id": "8684a03b",
   "metadata": {},
   "source": [
    "## Standardize Dataset"
   ]
  },
  {
   "cell_type": "code",
   "execution_count": 5,
   "id": "539b1fc5",
   "metadata": {},
   "outputs": [],
   "source": [
    "# reset index to make Date a column\n",
    "data.reset_index(inplace=True)"
   ]
  },
  {
   "cell_type": "code",
   "execution_count": 6,
   "id": "6da391ec",
   "metadata": {},
   "outputs": [],
   "source": [
    "# flatten the column names (remove multi-level, unnecessary tags)\n",
    "if isinstance(data.columns, pd.MultiIndex):\n",
    "    data.columns = [''.join(col).strip() if isinstance(col, tuple) else col for col in data.columns]"
   ]
  },
  {
   "cell_type": "code",
   "execution_count": 7,
   "id": "5a8997cd",
   "metadata": {},
   "outputs": [
    {
     "data": {
      "text/plain": [
       "Index(['Date', 'CloseAAPL', 'HighAAPL', 'LowAAPL', 'OpenAAPL', 'VolumeAAPL'], dtype='object')"
      ]
     },
     "execution_count": 7,
     "metadata": {},
     "output_type": "execute_result"
    }
   ],
   "source": [
    "data.columns"
   ]
  },
  {
   "cell_type": "code",
   "execution_count": 8,
   "id": "e84ad6f9",
   "metadata": {},
   "outputs": [],
   "source": [
    "# rename columns to clean names\n",
    "data.rename(columns={\n",
    "    'CloseAAPL': 'Close',\n",
    "    'HighAAPL': 'High',\n",
    "    'LowAAPL': 'Low',\n",
    "    'OpenAAPL': 'Open',\n",
    "    'VolumeAAPL': 'Volume'\n",
    "}, inplace=True)"
   ]
  },
  {
   "cell_type": "code",
   "execution_count": 9,
   "id": "c54fdce5",
   "metadata": {},
   "outputs": [
    {
     "data": {
      "text/html": [
       "<div>\n",
       "<style scoped>\n",
       "    .dataframe tbody tr th:only-of-type {\n",
       "        vertical-align: middle;\n",
       "    }\n",
       "\n",
       "    .dataframe tbody tr th {\n",
       "        vertical-align: top;\n",
       "    }\n",
       "\n",
       "    .dataframe thead th {\n",
       "        text-align: right;\n",
       "    }\n",
       "</style>\n",
       "<table border=\"1\" class=\"dataframe\">\n",
       "  <thead>\n",
       "    <tr style=\"text-align: right;\">\n",
       "      <th></th>\n",
       "      <th>Date</th>\n",
       "      <th>Close</th>\n",
       "      <th>High</th>\n",
       "      <th>Low</th>\n",
       "      <th>Open</th>\n",
       "      <th>Volume</th>\n",
       "    </tr>\n",
       "  </thead>\n",
       "  <tbody>\n",
       "    <tr>\n",
       "      <th>0</th>\n",
       "      <td>2012-01-03</td>\n",
       "      <td>12.345172</td>\n",
       "      <td>12.383298</td>\n",
       "      <td>12.278228</td>\n",
       "      <td>12.290236</td>\n",
       "      <td>302220800</td>\n",
       "    </tr>\n",
       "    <tr>\n",
       "      <th>1</th>\n",
       "      <td>2012-01-04</td>\n",
       "      <td>12.411516</td>\n",
       "      <td>12.448742</td>\n",
       "      <td>12.286633</td>\n",
       "      <td>12.308247</td>\n",
       "      <td>260022000</td>\n",
       "    </tr>\n",
       "    <tr>\n",
       "      <th>2</th>\n",
       "      <td>2012-01-05</td>\n",
       "      <td>12.549310</td>\n",
       "      <td>12.564920</td>\n",
       "      <td>12.388401</td>\n",
       "      <td>12.456848</td>\n",
       "      <td>271269600</td>\n",
       "    </tr>\n",
       "    <tr>\n",
       "      <th>3</th>\n",
       "      <td>2012-01-06</td>\n",
       "      <td>12.680496</td>\n",
       "      <td>12.691003</td>\n",
       "      <td>12.585032</td>\n",
       "      <td>12.601544</td>\n",
       "      <td>318292800</td>\n",
       "    </tr>\n",
       "    <tr>\n",
       "      <th>4</th>\n",
       "      <td>2012-01-09</td>\n",
       "      <td>12.660384</td>\n",
       "      <td>12.841105</td>\n",
       "      <td>12.648976</td>\n",
       "      <td>12.773561</td>\n",
       "      <td>394024400</td>\n",
       "    </tr>\n",
       "  </tbody>\n",
       "</table>\n",
       "</div>"
      ],
      "text/plain": [
       "        Date      Close       High        Low       Open     Volume\n",
       "0 2012-01-03  12.345172  12.383298  12.278228  12.290236  302220800\n",
       "1 2012-01-04  12.411516  12.448742  12.286633  12.308247  260022000\n",
       "2 2012-01-05  12.549310  12.564920  12.388401  12.456848  271269600\n",
       "3 2012-01-06  12.680496  12.691003  12.585032  12.601544  318292800\n",
       "4 2012-01-09  12.660384  12.841105  12.648976  12.773561  394024400"
      ]
     },
     "execution_count": 9,
     "metadata": {},
     "output_type": "execute_result"
    }
   ],
   "source": [
    "data.head()"
   ]
  },
  {
   "cell_type": "code",
   "execution_count": 10,
   "id": "f300cafe",
   "metadata": {},
   "outputs": [],
   "source": [
    "# fix date columns if there is any inconsistent or unusual dates\n",
    "data['Date'] = pd.to_datetime(data['Date'], format='mixed')"
   ]
  },
  {
   "cell_type": "markdown",
   "id": "cd6a3c00",
   "metadata": {},
   "source": [
    "## Understand the dataset"
   ]
  },
  {
   "cell_type": "code",
   "execution_count": 11,
   "id": "1099f401",
   "metadata": {},
   "outputs": [
    {
     "data": {
      "text/html": [
       "<div>\n",
       "<style scoped>\n",
       "    .dataframe tbody tr th:only-of-type {\n",
       "        vertical-align: middle;\n",
       "    }\n",
       "\n",
       "    .dataframe tbody tr th {\n",
       "        vertical-align: top;\n",
       "    }\n",
       "\n",
       "    .dataframe thead th {\n",
       "        text-align: right;\n",
       "    }\n",
       "</style>\n",
       "<table border=\"1\" class=\"dataframe\">\n",
       "  <thead>\n",
       "    <tr style=\"text-align: right;\">\n",
       "      <th></th>\n",
       "      <th>count</th>\n",
       "      <th>mean</th>\n",
       "      <th>min</th>\n",
       "      <th>25%</th>\n",
       "      <th>50%</th>\n",
       "      <th>75%</th>\n",
       "      <th>max</th>\n",
       "      <th>std</th>\n",
       "    </tr>\n",
       "  </thead>\n",
       "  <tbody>\n",
       "    <tr>\n",
       "      <th>Date</th>\n",
       "      <td>3269</td>\n",
       "      <td>2018-07-01 23:14:37.699602432</td>\n",
       "      <td>2012-01-03 00:00:00</td>\n",
       "      <td>2015-04-06 00:00:00</td>\n",
       "      <td>2018-07-02 00:00:00</td>\n",
       "      <td>2021-09-29 00:00:00</td>\n",
       "      <td>2024-12-30 00:00:00</td>\n",
       "      <td>NaN</td>\n",
       "    </tr>\n",
       "    <tr>\n",
       "      <th>Close</th>\n",
       "      <td>3269.0</td>\n",
       "      <td>76.242169</td>\n",
       "      <td>11.896802</td>\n",
       "      <td>23.223902</td>\n",
       "      <td>41.571018</td>\n",
       "      <td>139.147552</td>\n",
       "      <td>258.103729</td>\n",
       "      <td>65.849787</td>\n",
       "    </tr>\n",
       "    <tr>\n",
       "      <th>High</th>\n",
       "      <td>3269.0</td>\n",
       "      <td>76.981344</td>\n",
       "      <td>12.173104</td>\n",
       "      <td>23.35153</td>\n",
       "      <td>41.837849</td>\n",
       "      <td>140.838071</td>\n",
       "      <td>259.179926</td>\n",
       "      <td>66.457532</td>\n",
       "    </tr>\n",
       "    <tr>\n",
       "      <th>Low</th>\n",
       "      <td>3269.0</td>\n",
       "      <td>75.423667</td>\n",
       "      <td>11.731386</td>\n",
       "      <td>23.031585</td>\n",
       "      <td>41.176434</td>\n",
       "      <td>136.593787</td>\n",
       "      <td>256.718662</td>\n",
       "      <td>65.147894</td>\n",
       "    </tr>\n",
       "    <tr>\n",
       "      <th>Open</th>\n",
       "      <td>3269.0</td>\n",
       "      <td>76.176454</td>\n",
       "      <td>11.818816</td>\n",
       "      <td>23.199499</td>\n",
       "      <td>41.550747</td>\n",
       "      <td>139.084522</td>\n",
       "      <td>257.276679</td>\n",
       "      <td>65.76706</td>\n",
       "    </tr>\n",
       "    <tr>\n",
       "      <th>Volume</th>\n",
       "      <td>3269.0</td>\n",
       "      <td>181275898.348119</td>\n",
       "      <td>23234700.0</td>\n",
       "      <td>79592600.0</td>\n",
       "      <td>121517600.0</td>\n",
       "      <td>216229200.0</td>\n",
       "      <td>1506120000.0</td>\n",
       "      <td>166798882.858728</td>\n",
       "    </tr>\n",
       "  </tbody>\n",
       "</table>\n",
       "</div>"
      ],
      "text/plain": [
       "         count                           mean                  min  \\\n",
       "Date      3269  2018-07-01 23:14:37.699602432  2012-01-03 00:00:00   \n",
       "Close   3269.0                      76.242169            11.896802   \n",
       "High    3269.0                      76.981344            12.173104   \n",
       "Low     3269.0                      75.423667            11.731386   \n",
       "Open    3269.0                      76.176454            11.818816   \n",
       "Volume  3269.0               181275898.348119           23234700.0   \n",
       "\n",
       "                        25%                  50%                  75%  \\\n",
       "Date    2015-04-06 00:00:00  2018-07-02 00:00:00  2021-09-29 00:00:00   \n",
       "Close             23.223902            41.571018           139.147552   \n",
       "High               23.35153            41.837849           140.838071   \n",
       "Low               23.031585            41.176434           136.593787   \n",
       "Open              23.199499            41.550747           139.084522   \n",
       "Volume           79592600.0          121517600.0          216229200.0   \n",
       "\n",
       "                        max               std  \n",
       "Date    2024-12-30 00:00:00               NaN  \n",
       "Close            258.103729         65.849787  \n",
       "High             259.179926         66.457532  \n",
       "Low              256.718662         65.147894  \n",
       "Open             257.276679          65.76706  \n",
       "Volume         1506120000.0  166798882.858728  "
      ]
     },
     "execution_count": 11,
     "metadata": {},
     "output_type": "execute_result"
    }
   ],
   "source": [
    "# descriptive statistics about the Data\n",
    "data.describe().T"
   ]
  },
  {
   "cell_type": "code",
   "execution_count": 12,
   "id": "863b54ad",
   "metadata": {},
   "outputs": [
    {
     "name": "stdout",
     "output_type": "stream",
     "text": [
      "<class 'pandas.core.frame.DataFrame'>\n",
      "RangeIndex: 3269 entries, 0 to 3268\n",
      "Data columns (total 6 columns):\n",
      " #   Column  Non-Null Count  Dtype         \n",
      "---  ------  --------------  -----         \n",
      " 0   Date    3269 non-null   datetime64[ns]\n",
      " 1   Close   3269 non-null   float64       \n",
      " 2   High    3269 non-null   float64       \n",
      " 3   Low     3269 non-null   float64       \n",
      " 4   Open    3269 non-null   float64       \n",
      " 5   Volume  3269 non-null   int64         \n",
      "dtypes: datetime64[ns](1), float64(4), int64(1)\n",
      "memory usage: 153.4 KB\n"
     ]
    }
   ],
   "source": [
    "# information about the data\n",
    "data.info()"
   ]
  }
 ],
 "metadata": {
  "kernelspec": {
   "display_name": "Python 3",
   "language": "python",
   "name": "python3"
  },
  "language_info": {
   "codemirror_mode": {
    "name": "ipython",
    "version": 3
   },
   "file_extension": ".py",
   "mimetype": "text/x-python",
   "name": "python",
   "nbconvert_exporter": "python",
   "pygments_lexer": "ipython3",
   "version": "3.10.0"
  }
 },
 "nbformat": 4,
 "nbformat_minor": 5
}

{
 "cells": [
  {
   "cell_type": "markdown",
   "id": "8d23a33a",
   "metadata": {},
   "source": [
    "# Stock Price Forecasting\n",
    "\n",
    "This project explores machine learning techniques to predict stock price movements based on historical data. It includes data preprocessing, feature engineering model training, evaluation, and visualization of results. The goal is to analyze patterns in stock prices and build predictive models that can provide useful insights for financial forecasting.\n",
    "\n",
    "---\n",
    "\n",
    "**Models:**\n",
    "- ARIMA (Statistical Model)\n",
    "- XGBoost (ML Model)\n",
    "- LSTM (Deep Learning Model)\n",
    "\n",
    "---\n",
    "\n",
    "**Author:** Md. Tushar Shihab<br>\n",
    "**Objective:** Predict next-day closing price using optimized models"
   ]
  },
  {
   "cell_type": "markdown",
   "id": "df85a764",
   "metadata": {},
   "source": [
    "# Imports Libraries & Configuration"
   ]
  },
  {
   "cell_type": "code",
   "execution_count": 1,
   "id": "40194f02",
   "metadata": {},
   "outputs": [],
   "source": [
    "\n",
    "# Suppress warnings for clean output\n",
    "import warnings\n",
    "warnings.filterwarnings(\"ignore\")\n",
    "\n",
    "# Core Python libraries\n",
    "import numpy as np\n",
    "import pandas as pd\n",
    "import yfinance as yf\n",
    "import matplotlib.pyplot as plt\n",
    "import seaborn as sns\n",
    "import joblib\n",
    "\n",
    "# Scikit-learn utilities for evaluation and preprocessing\n",
    "from sklearn.metrics import mean_squared_error, mean_absolute_error, r2_score\n",
    "from sklearn.preprocessing import MinMaxScaler\n",
    "from sklearn.model_selection import TimeSeriesSplit\n",
    "\n",
    "# Machine Learning models and optimization\n",
    "import xgboost as xgb\n",
    "import optuna\n",
    "\n",
    "# ARIMA models for time series forecasting\n",
    "from pmdarima import auto_arima\n",
    "from pmdarima.arima import ARIMA as PmdARIMA\n",
    "\n",
    "# Deep Learning with Keras (LSTM for sequential data like stock prices)\n",
    "import tensorflow as tf\n",
    "tf.get_logger().setLevel('ERROR')\n",
    "\n",
    "from tensorflow.keras.models import Sequential\n",
    "from tensorflow.keras.layers import LSTM, Dense, Dropout\n",
    "from tensorflow.keras.optimizers import Adam\n",
    "from tensorflow.keras.callbacks import EarlyStopping\n",
    "\n",
    "# Utility imports\n",
    "import datetime\n",
    "import os\n",
    "\n",
    "# Reproducibility setup\n",
    "np.random.seed(42)\n",
    "tf.random.set_seed(42)\n",
    "optuna.logging.set_verbosity(optuna.logging.WARNING)\n",
    "\n",
    "from pathlib import Path"
   ]
  },
  {
   "cell_type": "markdown",
   "id": "e7b867a4",
   "metadata": {},
   "source": [
    "# Load and Prepare Data"
   ]
  },
  {
   "cell_type": "code",
   "execution_count": 2,
   "id": "ba447bb8",
   "metadata": {},
   "outputs": [
    {
     "name": "stderr",
     "output_type": "stream",
     "text": [
      "[*********************100%***********************]  1 of 1 completed\n"
     ]
    }
   ],
   "source": [
    "# The stock we'll use for this analysis\n",
    "stock = 'AAPL'\n",
    "\n",
    "# data range for stock data\n",
    "start = '2012-01-01'\n",
    "end = '2024-12-31'\n",
    "\n",
    "# Download stock data using yfinance\n",
    "data = yf.download(stock, start, end)"
   ]
  },
  {
   "cell_type": "code",
   "execution_count": 3,
   "id": "9f692cd1",
   "metadata": {},
   "outputs": [
    {
     "data": {
      "text/html": [
       "<div>\n",
       "<style scoped>\n",
       "    .dataframe tbody tr th:only-of-type {\n",
       "        vertical-align: middle;\n",
       "    }\n",
       "\n",
       "    .dataframe tbody tr th {\n",
       "        vertical-align: top;\n",
       "    }\n",
       "\n",
       "    .dataframe thead tr th {\n",
       "        text-align: left;\n",
       "    }\n",
       "\n",
       "    .dataframe thead tr:last-of-type th {\n",
       "        text-align: right;\n",
       "    }\n",
       "</style>\n",
       "<table border=\"1\" class=\"dataframe\">\n",
       "  <thead>\n",
       "    <tr>\n",
       "      <th>Price</th>\n",
       "      <th>Close</th>\n",
       "      <th>High</th>\n",
       "      <th>Low</th>\n",
       "      <th>Open</th>\n",
       "      <th>Volume</th>\n",
       "    </tr>\n",
       "    <tr>\n",
       "      <th>Ticker</th>\n",
       "      <th>AAPL</th>\n",
       "      <th>AAPL</th>\n",
       "      <th>AAPL</th>\n",
       "      <th>AAPL</th>\n",
       "      <th>AAPL</th>\n",
       "    </tr>\n",
       "    <tr>\n",
       "      <th>Date</th>\n",
       "      <th></th>\n",
       "      <th></th>\n",
       "      <th></th>\n",
       "      <th></th>\n",
       "      <th></th>\n",
       "    </tr>\n",
       "  </thead>\n",
       "  <tbody>\n",
       "    <tr>\n",
       "      <th>2012-01-03</th>\n",
       "      <td>12.345174</td>\n",
       "      <td>12.383300</td>\n",
       "      <td>12.278229</td>\n",
       "      <td>12.290238</td>\n",
       "      <td>302220800</td>\n",
       "    </tr>\n",
       "    <tr>\n",
       "      <th>2012-01-04</th>\n",
       "      <td>12.411519</td>\n",
       "      <td>12.448745</td>\n",
       "      <td>12.286636</td>\n",
       "      <td>12.308250</td>\n",
       "      <td>260022000</td>\n",
       "    </tr>\n",
       "    <tr>\n",
       "      <th>2012-01-05</th>\n",
       "      <td>12.549306</td>\n",
       "      <td>12.564916</td>\n",
       "      <td>12.388398</td>\n",
       "      <td>12.456844</td>\n",
       "      <td>271269600</td>\n",
       "    </tr>\n",
       "    <tr>\n",
       "      <th>2012-01-06</th>\n",
       "      <td>12.680502</td>\n",
       "      <td>12.691009</td>\n",
       "      <td>12.585038</td>\n",
       "      <td>12.601549</td>\n",
       "      <td>318292800</td>\n",
       "    </tr>\n",
       "    <tr>\n",
       "      <th>2012-01-09</th>\n",
       "      <td>12.660382</td>\n",
       "      <td>12.841103</td>\n",
       "      <td>12.648974</td>\n",
       "      <td>12.773559</td>\n",
       "      <td>394024400</td>\n",
       "    </tr>\n",
       "  </tbody>\n",
       "</table>\n",
       "</div>"
      ],
      "text/plain": [
       "Price           Close       High        Low       Open     Volume\n",
       "Ticker           AAPL       AAPL       AAPL       AAPL       AAPL\n",
       "Date                                                             \n",
       "2012-01-03  12.345174  12.383300  12.278229  12.290238  302220800\n",
       "2012-01-04  12.411519  12.448745  12.286636  12.308250  260022000\n",
       "2012-01-05  12.549306  12.564916  12.388398  12.456844  271269600\n",
       "2012-01-06  12.680502  12.691009  12.585038  12.601549  318292800\n",
       "2012-01-09  12.660382  12.841103  12.648974  12.773559  394024400"
      ]
     },
     "execution_count": 3,
     "metadata": {},
     "output_type": "execute_result"
    }
   ],
   "source": [
    "# display data\n",
    "data.head()"
   ]
  },
  {
   "cell_type": "code",
   "execution_count": 4,
   "id": "e4202216",
   "metadata": {},
   "outputs": [
    {
     "data": {
      "text/plain": [
       "(3269, 5)"
      ]
     },
     "execution_count": 4,
     "metadata": {},
     "output_type": "execute_result"
    }
   ],
   "source": [
    "# shape of the dataset\n",
    "data.shape"
   ]
  },
  {
   "cell_type": "markdown",
   "id": "8684a03b",
   "metadata": {},
   "source": [
    "## Standardize Dataset"
   ]
  },
  {
   "cell_type": "code",
   "execution_count": 5,
   "id": "539b1fc5",
   "metadata": {},
   "outputs": [],
   "source": [
    "# reset index to make Date a column\n",
    "data.reset_index(inplace=True)"
   ]
  },
  {
   "cell_type": "code",
   "execution_count": 6,
   "id": "6da391ec",
   "metadata": {},
   "outputs": [],
   "source": [
    "# flatten the column names (remove multi-level, unnecessary tags)\n",
    "if isinstance(data.columns, pd.MultiIndex):\n",
    "    data.columns = [''.join(col).strip() if isinstance(col, tuple) else col for col in data.columns]"
   ]
  },
  {
   "cell_type": "code",
   "execution_count": 7,
   "id": "5a8997cd",
   "metadata": {},
   "outputs": [
    {
     "data": {
      "text/plain": [
       "Index(['Date', 'CloseAAPL', 'HighAAPL', 'LowAAPL', 'OpenAAPL', 'VolumeAAPL'], dtype='object')"
      ]
     },
     "execution_count": 7,
     "metadata": {},
     "output_type": "execute_result"
    }
   ],
   "source": [
    "data.columns"
   ]
  },
  {
   "cell_type": "code",
   "execution_count": 8,
   "id": "e84ad6f9",
   "metadata": {},
   "outputs": [],
   "source": [
    "# rename columns to clean names\n",
    "data.rename(columns={\n",
    "    'CloseAAPL': 'Close',\n",
    "    'HighAAPL': 'High',\n",
    "    'LowAAPL': 'Low',\n",
    "    'OpenAAPL': 'Open',\n",
    "    'VolumeAAPL': 'Volume'\n",
    "}, inplace=True)"
   ]
  },
  {
   "cell_type": "code",
   "execution_count": 9,
   "id": "c54fdce5",
   "metadata": {},
   "outputs": [
    {
     "data": {
      "text/html": [
       "<div>\n",
       "<style scoped>\n",
       "    .dataframe tbody tr th:only-of-type {\n",
       "        vertical-align: middle;\n",
       "    }\n",
       "\n",
       "    .dataframe tbody tr th {\n",
       "        vertical-align: top;\n",
       "    }\n",
       "\n",
       "    .dataframe thead th {\n",
       "        text-align: right;\n",
       "    }\n",
       "</style>\n",
       "<table border=\"1\" class=\"dataframe\">\n",
       "  <thead>\n",
       "    <tr style=\"text-align: right;\">\n",
       "      <th></th>\n",
       "      <th>Date</th>\n",
       "      <th>Close</th>\n",
       "      <th>High</th>\n",
       "      <th>Low</th>\n",
       "      <th>Open</th>\n",
       "      <th>Volume</th>\n",
       "    </tr>\n",
       "  </thead>\n",
       "  <tbody>\n",
       "    <tr>\n",
       "      <th>0</th>\n",
       "      <td>2012-01-03</td>\n",
       "      <td>12.345174</td>\n",
       "      <td>12.383300</td>\n",
       "      <td>12.278229</td>\n",
       "      <td>12.290238</td>\n",
       "      <td>302220800</td>\n",
       "    </tr>\n",
       "    <tr>\n",
       "      <th>1</th>\n",
       "      <td>2012-01-04</td>\n",
       "      <td>12.411519</td>\n",
       "      <td>12.448745</td>\n",
       "      <td>12.286636</td>\n",
       "      <td>12.308250</td>\n",
       "      <td>260022000</td>\n",
       "    </tr>\n",
       "    <tr>\n",
       "      <th>2</th>\n",
       "      <td>2012-01-05</td>\n",
       "      <td>12.549306</td>\n",
       "      <td>12.564916</td>\n",
       "      <td>12.388398</td>\n",
       "      <td>12.456844</td>\n",
       "      <td>271269600</td>\n",
       "    </tr>\n",
       "    <tr>\n",
       "      <th>3</th>\n",
       "      <td>2012-01-06</td>\n",
       "      <td>12.680502</td>\n",
       "      <td>12.691009</td>\n",
       "      <td>12.585038</td>\n",
       "      <td>12.601549</td>\n",
       "      <td>318292800</td>\n",
       "    </tr>\n",
       "    <tr>\n",
       "      <th>4</th>\n",
       "      <td>2012-01-09</td>\n",
       "      <td>12.660382</td>\n",
       "      <td>12.841103</td>\n",
       "      <td>12.648974</td>\n",
       "      <td>12.773559</td>\n",
       "      <td>394024400</td>\n",
       "    </tr>\n",
       "  </tbody>\n",
       "</table>\n",
       "</div>"
      ],
      "text/plain": [
       "        Date      Close       High        Low       Open     Volume\n",
       "0 2012-01-03  12.345174  12.383300  12.278229  12.290238  302220800\n",
       "1 2012-01-04  12.411519  12.448745  12.286636  12.308250  260022000\n",
       "2 2012-01-05  12.549306  12.564916  12.388398  12.456844  271269600\n",
       "3 2012-01-06  12.680502  12.691009  12.585038  12.601549  318292800\n",
       "4 2012-01-09  12.660382  12.841103  12.648974  12.773559  394024400"
      ]
     },
     "execution_count": 9,
     "metadata": {},
     "output_type": "execute_result"
    }
   ],
   "source": [
    "data.head()"
   ]
  },
  {
   "cell_type": "code",
   "execution_count": 10,
   "id": "f300cafe",
   "metadata": {},
   "outputs": [],
   "source": [
    "# fix date columns if there is any inconsistent or unusual dates\n",
    "data['Date'] = pd.to_datetime(data['Date'], format='mixed')"
   ]
  },
  {
   "cell_type": "markdown",
   "id": "cd6a3c00",
   "metadata": {},
   "source": [
    "## Understand the dataset"
   ]
  },
  {
   "cell_type": "code",
   "execution_count": 11,
   "id": "1099f401",
   "metadata": {},
   "outputs": [
    {
     "data": {
      "text/html": [
       "<div>\n",
       "<style scoped>\n",
       "    .dataframe tbody tr th:only-of-type {\n",
       "        vertical-align: middle;\n",
       "    }\n",
       "\n",
       "    .dataframe tbody tr th {\n",
       "        vertical-align: top;\n",
       "    }\n",
       "\n",
       "    .dataframe thead th {\n",
       "        text-align: right;\n",
       "    }\n",
       "</style>\n",
       "<table border=\"1\" class=\"dataframe\">\n",
       "  <thead>\n",
       "    <tr style=\"text-align: right;\">\n",
       "      <th></th>\n",
       "      <th>count</th>\n",
       "      <th>mean</th>\n",
       "      <th>min</th>\n",
       "      <th>25%</th>\n",
       "      <th>50%</th>\n",
       "      <th>75%</th>\n",
       "      <th>max</th>\n",
       "      <th>std</th>\n",
       "    </tr>\n",
       "  </thead>\n",
       "  <tbody>\n",
       "    <tr>\n",
       "      <th>Date</th>\n",
       "      <td>3269</td>\n",
       "      <td>2018-07-01 23:14:37.699602432</td>\n",
       "      <td>2012-01-03 00:00:00</td>\n",
       "      <td>2015-04-06 00:00:00</td>\n",
       "      <td>2018-07-02 00:00:00</td>\n",
       "      <td>2021-09-29 00:00:00</td>\n",
       "      <td>2024-12-30 00:00:00</td>\n",
       "      <td>NaN</td>\n",
       "    </tr>\n",
       "    <tr>\n",
       "      <th>Close</th>\n",
       "      <td>3269.0</td>\n",
       "      <td>76.242169</td>\n",
       "      <td>11.8968</td>\n",
       "      <td>23.223892</td>\n",
       "      <td>41.571022</td>\n",
       "      <td>139.147583</td>\n",
       "      <td>258.103729</td>\n",
       "      <td>65.849788</td>\n",
       "    </tr>\n",
       "    <tr>\n",
       "      <th>High</th>\n",
       "      <td>3269.0</td>\n",
       "      <td>76.981344</td>\n",
       "      <td>12.173102</td>\n",
       "      <td>23.351528</td>\n",
       "      <td>41.837849</td>\n",
       "      <td>140.838071</td>\n",
       "      <td>259.179926</td>\n",
       "      <td>66.457532</td>\n",
       "    </tr>\n",
       "    <tr>\n",
       "      <th>Low</th>\n",
       "      <td>3269.0</td>\n",
       "      <td>75.423667</td>\n",
       "      <td>11.731384</td>\n",
       "      <td>23.031585</td>\n",
       "      <td>41.176442</td>\n",
       "      <td>136.593817</td>\n",
       "      <td>256.718662</td>\n",
       "      <td>65.147895</td>\n",
       "    </tr>\n",
       "    <tr>\n",
       "      <th>Open</th>\n",
       "      <td>3269.0</td>\n",
       "      <td>76.176454</td>\n",
       "      <td>11.818814</td>\n",
       "      <td>23.199499</td>\n",
       "      <td>41.550747</td>\n",
       "      <td>139.084476</td>\n",
       "      <td>257.276679</td>\n",
       "      <td>65.767061</td>\n",
       "    </tr>\n",
       "    <tr>\n",
       "      <th>Volume</th>\n",
       "      <td>3269.0</td>\n",
       "      <td>181275898.348119</td>\n",
       "      <td>23234700.0</td>\n",
       "      <td>79592600.0</td>\n",
       "      <td>121517600.0</td>\n",
       "      <td>216229200.0</td>\n",
       "      <td>1506120000.0</td>\n",
       "      <td>166798882.858728</td>\n",
       "    </tr>\n",
       "  </tbody>\n",
       "</table>\n",
       "</div>"
      ],
      "text/plain": [
       "         count                           mean                  min  \\\n",
       "Date      3269  2018-07-01 23:14:37.699602432  2012-01-03 00:00:00   \n",
       "Close   3269.0                      76.242169              11.8968   \n",
       "High    3269.0                      76.981344            12.173102   \n",
       "Low     3269.0                      75.423667            11.731384   \n",
       "Open    3269.0                      76.176454            11.818814   \n",
       "Volume  3269.0               181275898.348119           23234700.0   \n",
       "\n",
       "                        25%                  50%                  75%  \\\n",
       "Date    2015-04-06 00:00:00  2018-07-02 00:00:00  2021-09-29 00:00:00   \n",
       "Close             23.223892            41.571022           139.147583   \n",
       "High              23.351528            41.837849           140.838071   \n",
       "Low               23.031585            41.176442           136.593817   \n",
       "Open              23.199499            41.550747           139.084476   \n",
       "Volume           79592600.0          121517600.0          216229200.0   \n",
       "\n",
       "                        max               std  \n",
       "Date    2024-12-30 00:00:00               NaN  \n",
       "Close            258.103729         65.849788  \n",
       "High             259.179926         66.457532  \n",
       "Low              256.718662         65.147895  \n",
       "Open             257.276679         65.767061  \n",
       "Volume         1506120000.0  166798882.858728  "
      ]
     },
     "execution_count": 11,
     "metadata": {},
     "output_type": "execute_result"
    }
   ],
   "source": [
    "# descriptive statistics about the Data\n",
    "data.describe().T"
   ]
  },
  {
   "cell_type": "code",
   "execution_count": 12,
   "id": "863b54ad",
   "metadata": {},
   "outputs": [
    {
     "name": "stdout",
     "output_type": "stream",
     "text": [
      "<class 'pandas.core.frame.DataFrame'>\n",
      "RangeIndex: 3269 entries, 0 to 3268\n",
      "Data columns (total 6 columns):\n",
      " #   Column  Non-Null Count  Dtype         \n",
      "---  ------  --------------  -----         \n",
      " 0   Date    3269 non-null   datetime64[ns]\n",
      " 1   Close   3269 non-null   float64       \n",
      " 2   High    3269 non-null   float64       \n",
      " 3   Low     3269 non-null   float64       \n",
      " 4   Open    3269 non-null   float64       \n",
      " 5   Volume  3269 non-null   int64         \n",
      "dtypes: datetime64[ns](1), float64(4), int64(1)\n",
      "memory usage: 153.4 KB\n"
     ]
    }
   ],
   "source": [
    "# information about the data\n",
    "data.info()"
   ]
  },
  {
   "cell_type": "markdown",
   "id": "eabc4dfc",
   "metadata": {},
   "source": [
    "# Analytical Plots"
   ]
  },
  {
   "cell_type": "markdown",
   "id": "7b567a6a",
   "metadata": {},
   "source": [
    "## Closing Price"
   ]
  },
  {
   "cell_type": "code",
   "execution_count": 13,
   "id": "2188c3f1",
   "metadata": {},
   "outputs": [
    {
     "data": {
      "image/png": "[encoded data removed]",
      "text/plain": [
       "<Figure size 1200x600 with 1 Axes>"
      ]
     },
     "metadata": {},
     "output_type": "display_data"
    }
   ],
   "source": [
    "plt.figure(figsize=(12, 6))\n",
    "\n",
    "# Plot the closing price\n",
    "plt.plot(data['Date'], data['Close'], label='Close', color='blue')\n",
    "plt.title(f\"Closing Price Analysis\")\n",
    "plt.xlabel(\"Date\")\n",
    "plt.ylabel(\"Close Price\")\n",
    "plt.legend()\n",
    "plt.show()"
   ]
  },
  {
   "cell_type": "markdown",
   "id": "4cbb2e0b",
   "metadata": {},
   "source": [
    "## Volume of Sales"
   ]
  },
  {
   "cell_type": "code",
   "execution_count": 14,
   "id": "3eb0799f",
   "metadata": {},
   "outputs": [
    {
     "data": {
      "image/png": "[encoded data removed]",
      "text/plain": [
       "<Figure size 1200x600 with 1 Axes>"
      ]
     },
     "metadata": {},
     "output_type": "display_data"
    }
   ],
   "source": [
    "plt.figure(figsize=(12, 6))\n",
    "\n",
    "# Plot the closing price\n",
    "plt.plot(data['Date'], data['Volume'], label='Close', color='blue')\n",
    "plt.title(f\"Volume of Sales Analysis\")\n",
    "plt.xlabel(\"Date\")\n",
    "plt.ylabel(\"Volume\")\n",
    "plt.legend()\n",
    "plt.show()"
   ]
  },
  {
   "cell_type": "markdown",
   "id": "03c63235",
   "metadata": {},
   "source": [
    "# Moving Average of the Stock"
   ]
  },
  {
   "cell_type": "code",
   "execution_count": 15,
   "id": "b347c7dc",
   "metadata": {},
   "outputs": [
    {
     "data": {
      "image/png": "[encoded data removed]",
      "text/plain": [
       "<Figure size 1200x600 with 1 Axes>"
      ]
     },
     "metadata": {},
     "output_type": "display_data"
    }
   ],
   "source": [
    "# define moving averages\n",
    "ma_days = [50, 100, 200]\n",
    "ma_colors = ['orange', 'green', 'red']\n",
    "\n",
    "# calculate moving averages\n",
    "for ma in ma_days:\n",
    "    column_name = f\"MA_{ma}\"\n",
    "    data[column_name] = data['Close'].rolling(ma).mean()\n",
    "\n",
    "# plotting\n",
    "plt.figure(figsize=(12, 6))\n",
    "plt.plot(data['Date'], data['Close'], label='Close', color='blue')\n",
    "\n",
    "# plot each moving average\n",
    "for ma, color in zip(ma_days, ma_colors):\n",
    "    plt.plot(data['Date'], data[f\"MA_{ma}\"], label=f\"MA {ma} days\", color=color)\n",
    "\n",
    "plt.title(f\"Moving Averages\")\n",
    "plt.xlabel(\"Date\")\n",
    "plt.ylabel(\"Price\")\n",
    "plt.legend()\n",
    "plt.grid(True)\n",
    "plt.show()"
   ]
  },
  {
   "cell_type": "markdown",
   "id": "c6c181d3",
   "metadata": {},
   "source": [
    "# Daily return of the stock on average"
   ]
  },
  {
   "cell_type": "code",
   "execution_count": 16,
   "id": "037301c4",
   "metadata": {},
   "outputs": [
    {
     "data": {
      "image/png": "[encoded data removed]",
      "text/plain": [
       "<Figure size 1200x600 with 1 Axes>"
      ]
     },
     "metadata": {},
     "output_type": "display_data"
    }
   ],
   "source": [
    "# calculate daily return\n",
    "data['DailyReturn'] = data['Close'].pct_change()\n",
    "\n",
    "# plot daily return percentage\n",
    "plt.figure(figsize=(12, 6))\n",
    "plt.plot(data['Date'], data['DailyReturn'], linestyle='--', marker='o', label='Daily Return')\n",
    "\n",
    "plt.title(f\"Daily Return of the Stock on Average\")\n",
    "plt.xlabel(\"date\")\n",
    "plt.ylabel(\"daily return\")\n",
    "plt.legend()\n",
    "plt.grid(True)\n",
    "plt.show()\n"
   ]
  },
  {
   "cell_type": "markdown",
   "id": "f6efcd82",
   "metadata": {},
   "source": [
    "## Persist dataset"
   ]
  },
  {
   "cell_type": "code",
   "execution_count": 17,
   "id": "fc950c1d",
   "metadata": {},
   "outputs": [],
   "source": [
    "output_dir = file = Path(r\"../data\")\n",
    "output_dir.mkdir(parents=True, exist_ok=True)           # create folder if it doesn't exist\n",
    "\n",
    "# define file path\n",
    "file_path = output_dir / f\"{stock}_preprocessed.csv\"\n",
    "\n",
    "# save dataframe to csv\n",
    "data.to_csv(file_path, index=False)\n"
   ]
  },
  {
   "cell_type": "markdown",
   "id": "214ae635",
   "metadata": {},
   "source": [
    "# Model Development"
   ]
  },
  {
   "cell_type": "code",
   "execution_count": 18,
   "id": "b8f14609",
   "metadata": {},
   "outputs": [],
   "source": [
    "# function to split data into train, validation, and test sets by date\n",
    "def time_based_split(df):\n",
    "    \"\"\"Split data into train, validation, and test sets by index proportion.\"\"\"\n",
    "    train_end = int(len(df) * 0.8)\n",
    "    val_end = int(len(df) * 0.9)\n",
    "\n",
    "    train = df.iloc[:train_end]\n",
    "    val = df.iloc[train_end:val_end]\n",
    "    test = df.iloc[val_end:]\n",
    "    \n",
    "    print(\"Data Split Summary:\")\n",
    "    print(f\"Train:  {train.index.min()} → {train.index.max()}  ({len(train)} rows)\")\n",
    "    print(f\"Val:    {val.index.min()} → {val.index.max()}    ({len(val)} rows)\")\n",
    "    print(f\"Test:   {test.index.min()} → {test.index.max()}   ({len(test)} rows)\")\n",
    "    \n",
    "\n",
    "    return train, val, test"
   ]
  },
  {
   "cell_type": "code",
   "execution_count": 19,
   "id": "1b5088b9",
   "metadata": {},
   "outputs": [
    {
     "name": "stdout",
     "output_type": "stream",
     "text": [
      "Data Split Summary:\n",
      "Train:  0 → 2614  (2615 rows)\n",
      "Val:    2615 → 2941    (327 rows)\n",
      "Test:   2942 → 3268   (327 rows)\n"
     ]
    }
   ],
   "source": [
    "# time-based split by proportion\n",
    "train, val, test = time_based_split(data)"
   ]
  },
  {
   "cell_type": "markdown",
   "id": "5cbdef54",
   "metadata": {},
   "source": [
    "## Helper Functions"
   ]
  },
  {
   "cell_type": "code",
   "execution_count": 20,
   "id": "59c64e5f",
   "metadata": {},
   "outputs": [],
   "source": [
    "# Evaluation Metrics\n",
    "def calculate_metrics(y_true, y_pred, prefix=\"\"):\n",
    "    # calculate regression metrics\n",
    "    mse = mean_squared_error(y_true, y_pred)\n",
    "    mae = mean_absolute_error(y_true, y_pred)\n",
    "    rmse = np.sqrt(mse)\n",
    "    r2 = r2_score(y_true, y_pred)\n",
    "    mape = np.mean(np.abs((y_true - y_pred) / y_true)) * 100\n",
    "    return {\n",
    "        f\"{prefix}MSE\": mse,\n",
    "        f\"{prefix}MAE\": mae,\n",
    "        f\"{prefix}RMSE\": rmse,\n",
    "        f\"{prefix}R2\": r2,\n",
    "        f\"{prefix}MAPE\": mape\n",
    "    }"
   ]
  },
  {
   "cell_type": "code",
   "execution_count": null,
   "id": "0e706be5",
   "metadata": {},
   "outputs": [],
   "source": [
    "# create Lagged Features (for ML/DL)\n",
    "def create_lagged_features(series, lags=10):\n",
    "    # create lagged features for supervised learning.\n",
    "    data = pd.DataFrame(series, columns=['Close'])\n",
    "    for lag in range(1, lags + 1):\n",
    "        data[f'lag_{lag}'] = data['Close'].shift(lag)\n",
    "    data.dropna(inplace=True)\n",
    "    return data"
   ]
  },
  {
   "cell_type": "code",
   "execution_count": 22,
   "id": "30fe97d0",
   "metadata": {},
   "outputs": [],
   "source": [
    "# Prepare ML data once\n",
    "def prepare_ml_data(y_train, y_val, y_test, lags=10):\n",
    "    y_full_train = np.concatenate([y_train, y_val])\n",
    "    y_full_all = np.concatenate([y_full_train, y_test])\n",
    "    df_all = create_lagged_features(y_full_all, lags)\n",
    "    n_train = len(y_train) - lags\n",
    "    n_val = len(y_val)\n",
    "    n_test = len(y_test)\n",
    "    X_train = df_all.iloc[:n_train, 1:].values\n",
    "    y_train_ml = df_all.iloc[:n_train, 0].values\n",
    "    X_val = df_all.iloc[n_train:n_train + n_val, 1:].values\n",
    "    y_val_ml = df_all.iloc[n_train:n_train + n_val, 0].values\n",
    "    X_test = df_all.iloc[n_train + n_val:n_train + n_val + n_test, 1:].values\n",
    "    y_test_ml = df_all.iloc[n_train + n_val:n_train + n_val + n_test, 0].values\n",
    "    return X_train, y_train_ml, X_val, y_val_ml, X_test, y_test_ml"
   ]
  },
  {
   "cell_type": "code",
   "execution_count": 23,
   "id": "57518b9e",
   "metadata": {},
   "outputs": [],
   "source": [
    "def create_sequences(data, seq_length):\n",
    "    X, y = [], []\n",
    "    for i in range(seq_length, len(data)):\n",
    "        X.append(data[i-seq_length:i])\n",
    "        y.append(data[i])\n",
    "    return np.array(X), np.array(y)"
   ]
  },
  {
   "cell_type": "code",
   "execution_count": null,
   "id": "1cbe5b9d",
   "metadata": {},
   "outputs": [],
   "source": [
    "# Prints a single table showing both train and test performance for a model.\n",
    "def print_evaluation_tables(model_name, train_metrics, test_metrics):\n",
    "    # Create a DataFrame with Train and Test as columns\n",
    "    perf = pd.DataFrame({\n",
    "        'Train': train_metrics,\n",
    "        'Test': test_metrics\n",
    "    })\n",
    "    \n",
    "    print(f\"--- Performance Comparison: Train vs Test ({model_name}) ---\")\n",
    "    return perf.round(3)"
   ]
  },
  {
   "cell_type": "markdown",
   "id": "692a570d",
   "metadata": {},
   "source": [
    "## Feature Selection & Model Configuration"
   ]
  },
  {
   "cell_type": "code",
   "execution_count": 25,
   "id": "53a66b5c",
   "metadata": {},
   "outputs": [],
   "source": [
    "# extract target series\n",
    "y_train = train['Close'].values\n",
    "y_val = val['Close'].values\n",
    "y_test = test['Close'].values"
   ]
  },
  {
   "cell_type": "code",
   "execution_count": 26,
   "id": "a309c2b0",
   "metadata": {},
   "outputs": [],
   "source": [
    "# set lags\n",
    "LAGS = 10\n",
    "SEQ_LEN = 10  # For LSTM\n",
    "\n",
    "# train-test split for ml model\n",
    "x_train, y_train_ml, x_val, y_val_ml, X_test, y_test_ml = prepare_ml_data(y_train, y_val, y_test, LAGS)"
   ]
  },
  {
   "cell_type": "code",
   "execution_count": 27,
   "id": "802ec57a",
   "metadata": {},
   "outputs": [],
   "source": [
    "# Prepare LSTM data\n",
    "scaler = MinMaxScaler()\n",
    "y_full_scaled = scaler.fit_transform(data[['Close']]).flatten()\n",
    "train_end_idx = len(train)\n",
    "val_end_idx = train_end_idx + len(val)\n",
    "y_train_scaled = y_full_scaled[:train_end_idx]\n",
    "y_val_scaled = y_full_scaled[train_end_idx:val_end_idx]\n",
    "y_test_scaled = y_full_scaled[val_end_idx:]"
   ]
  },
  {
   "cell_type": "code",
   "execution_count": 28,
   "id": "50a4e497",
   "metadata": {},
   "outputs": [],
   "source": [
    "# create sequence\n",
    "X_train_seq, y_train_seq = create_sequences(y_train_scaled, SEQ_LEN)\n",
    "X_val_seq, y_val_seq = create_sequences(y_val_scaled, SEQ_LEN)\n",
    "X_test_seq, y_test_seq = create_sequences(y_test_scaled, SEQ_LEN)\n",
    "X_train_seq = X_train_seq.reshape((X_train_seq.shape[0], X_train_seq.shape[1], 1))\n",
    "X_val_seq = X_val_seq.reshape((X_val_seq.shape[0], X_train_seq.shape[1], 1))\n",
    "X_test_seq = X_test_seq.reshape((X_test_seq.shape[0], X_train_seq.shape[1], 1))"
   ]
  },
  {
   "cell_type": "code",
   "execution_count": 29,
   "id": "00b628ba",
   "metadata": {},
   "outputs": [],
   "source": [
    "# dictionary for comparing models\n",
    "final_test_metrics = {}"
   ]
  },
  {
   "cell_type": "markdown",
   "id": "cf5bc29b",
   "metadata": {},
   "source": [
    "# Statistical Model: ARIMA"
   ]
  },
  {
   "cell_type": "markdown",
   "id": "eaf92198",
   "metadata": {},
   "source": [
    "## Baseline Modeling"
   ]
  },
  {
   "cell_type": "code",
   "execution_count": 30,
   "id": "5bbca03a",
   "metadata": {},
   "outputs": [],
   "source": [
    "\"\"\" Baseline ARIMA (Default Parameters) \"\"\"\n",
    "\n",
    "try:\n",
    "    arima_baseline = PmdARIMA(order=(1, 1, 1))\n",
    "    arima_baseline.fit(y_train)\n",
    "    arima_base_train_pred = arima_baseline.predict_in_sample()\n",
    "    arima_base_test_pred = arima_baseline.predict(n_periods=len(y_test))\n",
    "except Exception as e:\n",
    "    print(f\"Baseline failed, using naive forecast: {e}\")\n",
    "    arima_base_train_pred = np.full_like(y_train, y_train[-1])\n",
    "    arima_base_test_pred = np.full_like(y_test, y_train[-1])\n",
    "\n",
    "arima_base_train_metrics = calculate_metrics(y_train[-len(arima_base_train_pred):], arima_base_train_pred)\n",
    "arima_base_test_metrics = calculate_metrics(y_test, arima_base_test_pred)"
   ]
  },
  {
   "cell_type": "code",
   "execution_count": 31,
   "id": "53e2df1e",
   "metadata": {},
   "outputs": [
    {
     "name": "stdout",
     "output_type": "stream",
     "text": [
      "--- Performance Comparison: Train vs Test (ARIMA Baseline) ---\n",
      "      Train      Test\n",
      "MSE   1.772  3138.620\n",
      "MAE   0.694    51.857\n",
      "RMSE  1.331    56.023\n",
      "R2    0.999    -4.014\n",
      "MAPE  1.297    25.012\n"
     ]
    }
   ],
   "source": [
    "# Performance of ARIMA Baseline\n",
    "print_evaluation_tables(\"ARIMA Baseline\", arima_base_train_metrics, arima_base_test_metrics)"
   ]
  },
  {
   "cell_type": "markdown",
   "id": "c42201cb",
   "metadata": {},
   "source": [
    "## Optimized Optimized Modeling"
   ]
  },
  {
   "cell_type": "code",
   "execution_count": 32,
   "id": "dd986ef3",
   "metadata": {},
   "outputs": [],
   "source": [
    "arima_opt = auto_arima(y_train, seasonal=False, stepwise=True, suppress_warnings=True, error_action='ignore', max_p=5, max_d=2, max_q=5)\n",
    "arima_opt_train_pred = arima_opt.predict_in_sample()\n",
    "arima_opt_test_pred = arima_opt.predict(n_periods=len(y_test))\n",
    "\n",
    "arima_opt_train_metrics = calculate_metrics(y_train[-len(arima_opt_train_pred):], arima_opt_train_pred)\n",
    "arima_opt_test_metrics = calculate_metrics(y_test, arima_opt_test_pred)"
   ]
  },
  {
   "cell_type": "code",
   "execution_count": 33,
   "id": "eb0df8a9",
   "metadata": {},
   "outputs": [
    {
     "name": "stdout",
     "output_type": "stream",
     "text": [
      "--- Performance Comparison: Train vs Test (ARIMA Optimized) ---\n",
      "      Train      Test\n",
      "MSE   1.772  3131.275\n",
      "MAE   0.694    51.787\n",
      "RMSE  1.331    55.958\n",
      "R2    0.999    -4.002\n",
      "MAPE  1.297    24.977\n"
     ]
    }
   ],
   "source": [
    "print_evaluation_tables(\"ARIMA Optimized\", arima_opt_train_metrics, arima_opt_test_metrics)"
   ]
  },
  {
   "cell_type": "markdown",
   "id": "4632bf43",
   "metadata": {},
   "source": [
    "## Performance Summary of ARIMA Before and After Optimization"
   ]
  },
  {
   "cell_type": "code",
   "execution_count": null,
   "id": "4efdaf0b",
   "metadata": {},
   "outputs": [
    {
     "name": "stdout",
     "output_type": "stream",
     "text": [
      "                       MSE      MAE     RMSE      R2     MAPE\n",
      "Baseline_Train      1.7717   0.6940   1.3310  0.9991   1.2975\n",
      "Baseline_Test    3138.6197  51.8573  56.0234 -4.0141  25.0122\n",
      "Optimized_Train     1.7720   0.6936   1.3312  0.9991   1.2966\n",
      "Optimized_Test   3131.2751  51.7874  55.9578 -4.0024  24.9769\n"
     ]
    }
   ],
   "source": [
    "print(\"Performance Summary for ARIMA Models\")\n",
    "arima_summary = pd.DataFrame({\n",
    "    'Baseline_Train': arima_base_train_metrics,\n",
    "    'Baseline_Test': arima_base_test_metrics,\n",
    "    'Optimized_Train': arima_opt_train_metrics,\n",
    "    'Optimized_Test': arima_opt_test_metrics\n",
    "}).T\n",
    "arima_summary.round(3)"
   ]
  },
  {
   "cell_type": "code",
   "execution_count": null,
   "id": "d8946ee7",
   "metadata": {},
   "outputs": [],
   "source": [
    "# Retrain on Full Data for Final Test\n",
    "y_train_val = np.concatenate([y_train, y_val])\n",
    "arima_full = auto_arima(y_train_val, seasonal=False, stepwise=True, suppress_warnings=True, error_action='ignore', max_p=5, max_d=2, max_q=5)\n",
    "arima_final_test_pred = arima_full.predict(n_periods=len(y_test))\n",
    "final_test_metrics['ARIMA'] = calculate_metrics(y_test, arima_final_test_pred)"
   ]
  },
  {
   "cell_type": "markdown",
   "id": "04c36450",
   "metadata": {},
   "source": [
    "# ML Model: XGBoost"
   ]
  },
  {
   "cell_type": "markdown",
   "id": "fe8a8811",
   "metadata": {},
   "source": [
    "## Baseline Modeling"
   ]
  },
  {
   "cell_type": "code",
   "execution_count": null,
   "id": "00eff118",
   "metadata": {},
   "outputs": [],
   "source": [
    "\"\"\" XGBoost Modeling \"\"\"\n",
    "# train model\n",
    "xgb_baseline = xgb.XGBRegressor(random_state=42)\n",
    "xgb_baseline.fit(x_train, y_train_ml)\n"
   ]
  },
  {
   "cell_type": "code",
   "execution_count": null,
   "id": "8e6cecaa",
   "metadata": {},
   "outputs": [],
   "source": [
    "# apply model to make prediction\n",
    "xgb_base_train_pred = xgb_baseline.predict(x_train)\n",
    "xgb_base_test_pred = xgb_baseline.predict(X_test)"
   ]
  },
  {
   "cell_type": "code",
   "execution_count": 37,
   "id": "330a38a9",
   "metadata": {},
   "outputs": [],
   "source": [
    "# evaluation metrics\n",
    "xgb_base_train_metrics = calculate_metrics(y_train_ml, xgb_base_train_pred)\n",
    "xgb_base_test_metrics = calculate_metrics(y_test_ml, xgb_base_test_pred)"
   ]
  },
  {
   "cell_type": "code",
   "execution_count": 38,
   "id": "5c696b2e",
   "metadata": {},
   "outputs": [
    {
     "name": "stdout",
     "output_type": "stream",
     "text": [
      "--- Performance Comparison: Train vs Test (XGBoost Baseline) ---\n",
      "      Train      Test\n",
      "MSE   0.121  1423.450\n",
      "MAE   0.244    28.907\n",
      "RMSE  0.348    37.729\n",
      "R2    1.000    -1.274\n",
      "MAPE  0.679    13.190\n"
     ]
    }
   ],
   "source": [
    "# model performance train vs test\n",
    "print_evaluation_tables(\"XGBoost Baseline\", xgb_base_train_metrics, xgb_base_test_metrics)"
   ]
  },
  {
   "cell_type": "markdown",
   "id": "0a4b6c4d",
   "metadata": {},
   "source": [
    "## Optimized Modeling"
   ]
  },
  {
   "cell_type": "code",
   "execution_count": 46,
   "id": "b8da554a",
   "metadata": {},
   "outputs": [],
   "source": [
    "# xgb object creation\n",
    "def objective_xgb(trial):\n",
    "    params = {\n",
    "        'n_estimators': trial.suggest_int('n_estimators', 50, 500),\n",
    "        'max_depth': trial.suggest_int('max_depth', 3, 12),\n",
    "        'learning_rate': trial.suggest_float('learning_rate', 0.01, 0.3),\n",
    "        'subsample': trial.suggest_float('subsample', 0.6, 1.0),\n",
    "        'colsample_bytree': trial.suggest_float('colsample_bytree', 0.6, 1.0),\n",
    "        'gamma': trial.suggest_float('gamma', 0, 5),\n",
    "        'reg_alpha': trial.suggest_float('reg_alpha', 0, 10),\n",
    "        'reg_lambda': trial.suggest_float('reg_lambda', 0, 10),\n",
    "        'objective': 'reg:squarederror',\n",
    "        'random_state': 42,\n",
    "        'verbosity': 0\n",
    "    }\n",
    "    model = xgb.XGBRegressor(**params)\n",
    "    model.fit(x_train, y_train_ml, eval_set=[(x_val, y_val_ml)], verbose=False)\n",
    "    return mean_squared_error(y_val_ml, model.predict(x_val))"
   ]
  },
  {
   "cell_type": "code",
   "execution_count": 47,
   "id": "5045f2b3",
   "metadata": {},
   "outputs": [],
   "source": [
    "# optimized xgb study object\n",
    "study_xgb = optuna.create_study(direction='minimize')\n",
    "study_xgb.optimize(objective_xgb, n_trials=50)\n",
    "best_xgb_params = study_xgb.best_params"
   ]
  },
  {
   "cell_type": "code",
   "execution_count": null,
   "id": "05f0924c",
   "metadata": {},
   "outputs": [],
   "source": [
    "# fit the best model from optuna\n",
    "xgb_opt = xgb.XGBRegressor(**best_xgb_params, random_state=42)\n",
    "xgb_opt.fit(x_train, y_train_ml)"
   ]
  },
  {
   "cell_type": "code",
   "execution_count": null,
   "id": "0ce36a62",
   "metadata": {},
   "outputs": [],
   "source": [
    "# apply model to make predictions\n",
    "xgb_opt_train_pred = xgb_opt.predict(x_train)\n",
    "xgb_opt_test_pred = xgb_opt.predict(X_test)"
   ]
  },
  {
   "cell_type": "code",
   "execution_count": 49,
   "id": "4ea23680",
   "metadata": {},
   "outputs": [],
   "source": [
    "# evaluation of the metrics\n",
    "xgb_opt_train_metrics = calculate_metrics(y_train_ml, xgb_opt_train_pred)\n",
    "xgb_opt_test_metrics = calculate_metrics(y_test_ml, xgb_opt_test_pred)"
   ]
  },
  {
   "cell_type": "code",
   "execution_count": 50,
   "id": "bbc7653d",
   "metadata": {},
   "outputs": [
    {
     "name": "stdout",
     "output_type": "stream",
     "text": [
      "--- Performance Comparison: Train vs Test (XGBoost Optimized) ---\n",
      "      Train      Test\n",
      "MSE   1.281  1322.110\n",
      "MAE   0.724    27.557\n",
      "RMSE  1.132    36.361\n",
      "R2    0.999    -1.112\n",
      "MAPE  1.596    12.540\n"
     ]
    }
   ],
   "source": [
    "# model performance train vs test\n",
    "print_evaluation_tables(\"XGBoost Optimized\", xgb_opt_train_metrics, xgb_opt_test_metrics)"
   ]
  },
  {
   "cell_type": "markdown",
   "id": "a1e245f6",
   "metadata": {},
   "source": [
    "## Performance Summary of XGBoost Before and After Optimization"
   ]
  },
  {
   "cell_type": "code",
   "execution_count": null,
   "id": "e1dea3ac",
   "metadata": {},
   "outputs": [
    {
     "name": "stdout",
     "output_type": "stream",
     "text": [
      "Performance Summary for XGBoost Models\n",
      "                       MSE      MAE     RMSE      R2     MAPE\n",
      "Baseline_Train      0.1214   0.2445   0.3484  0.9999   0.6790\n",
      "Baseline_Test    1423.4497  28.9069  37.7286 -1.2741  13.1897\n",
      "Optimized_Train     1.2809   0.7242   1.1318  0.9993   1.5957\n",
      "Optimized_Test   1322.1104  27.5575  36.3608 -1.1122  12.5402\n"
     ]
    }
   ],
   "source": [
    "print(\"Performance Summary for XGBoost Models\")\n",
    "xgb_summary = pd.DataFrame({\n",
    "    'Baseline_Train': xgb_base_train_metrics,\n",
    "    'Baseline_Test': xgb_base_test_metrics,\n",
    "    'Optimized_Train': xgb_opt_train_metrics,\n",
    "    'Optimized_Test': xgb_opt_test_metrics\n",
    "}).T\n",
    "xgb_summary.round(3)"
   ]
  },
  {
   "cell_type": "code",
   "execution_count": 52,
   "id": "ca7ce2ef",
   "metadata": {},
   "outputs": [],
   "source": [
    "# Retrain on Full Data for Final Test\n",
    "x_train_val = np.vstack([x_train, x_val])\n",
    "y_train_val_ml = np.concatenate([y_train_ml, y_val_ml])\n",
    "xgb_full = xgb.XGBRegressor(**best_xgb_params, random_state=42)\n",
    "xgb_full.fit(x_train_val, y_train_val_ml)\n",
    "xgb_final_test_pred = xgb_full.predict(X_test)\n",
    "final_test_metrics['XGBoost'] = calculate_metrics(y_test_ml, xgb_final_test_pred)"
   ]
  },
  {
   "cell_type": "markdown",
   "id": "45859506",
   "metadata": {},
   "source": [
    "# Deep Learning - LSTM Model"
   ]
  },
  {
   "cell_type": "markdown",
   "id": "7512d3f7",
   "metadata": {},
   "source": [
    "## Baseline Modeling"
   ]
  },
  {
   "cell_type": "code",
   "execution_count": 53,
   "id": "ef90ec35",
   "metadata": {},
   "outputs": [],
   "source": [
    "# function create LSTM model\n",
    "def build_lstm(units=50, dropout=0.0, lr=0.001):\n",
    "    model = Sequential([\n",
    "        LSTM(units, return_sequences=True, input_shape=(SEQ_LEN, 1)),\n",
    "        LSTM(units, return_sequences=False),\n",
    "        Dense(1)\n",
    "    ])\n",
    "    model.compile(optimizer=Adam(learning_rate=lr), loss='mse')\n",
    "    return model"
   ]
  },
  {
   "cell_type": "code",
   "execution_count": 54,
   "id": "b04993b1",
   "metadata": {},
   "outputs": [
    {
     "data": {
      "text/plain": [
       "<keras.src.callbacks.history.History at 0x1cdb745ebc0>"
      ]
     },
     "execution_count": 54,
     "metadata": {},
     "output_type": "execute_result"
    }
   ],
   "source": [
    "# train model\n",
    "lstm_baseline = build_lstm(units=50, dropout=0.0, lr=0.001)\n",
    "early_stop = EarlyStopping(monitor='val_loss', patience=5, restore_best_weights=True)\n",
    "lstm_baseline.fit(X_train_seq, y_train_seq, validation_data=(X_val_seq, y_val_seq), \n",
    "                  epochs=20, batch_size=32, callbacks=[early_stop], verbose=0)"
   ]
  },
  {
   "cell_type": "code",
   "execution_count": 55,
   "id": "c05c7436",
   "metadata": {},
   "outputs": [
    {
     "name": "stdout",
     "output_type": "stream",
     "text": [
      "\u001b[1m82/82\u001b[0m \u001b[32m━━━━━━━━━━━━━━━━━━━━\u001b[0m\u001b[37m\u001b[0m \u001b[1m3s\u001b[0m 18ms/step\n",
      "\u001b[1m10/10\u001b[0m \u001b[32m━━━━━━━━━━━━━━━━━━━━\u001b[0m\u001b[37m\u001b[0m \u001b[1m0s\u001b[0m 11ms/step\n"
     ]
    }
   ],
   "source": [
    "# apply model to get predictions\n",
    "lstm_base_train_pred_scaled = lstm_baseline.predict(X_train_seq).flatten()\n",
    "lstm_base_train_pred = scaler.inverse_transform(lstm_base_train_pred_scaled.reshape(-1, 1)).flatten()\n",
    "lstm_base_test_pred_scaled = lstm_baseline.predict(X_test_seq).flatten()\n",
    "lstm_base_test_pred = scaler.inverse_transform(lstm_base_test_pred_scaled.reshape(-1, 1)).flatten()"
   ]
  },
  {
   "cell_type": "code",
   "execution_count": 56,
   "id": "f6a55c56",
   "metadata": {},
   "outputs": [],
   "source": [
    "# evaluation metrics\n",
    "min_train_len = min(len(y_train_ml), len(lstm_base_train_pred))\n",
    "min_test_len = min(len(y_test_ml), len(lstm_base_test_pred))\n",
    "lstm_base_train_metrics = calculate_metrics(y_train_ml[-min_train_len:], lstm_base_train_pred[-min_train_len:])\n",
    "lstm_base_test_metrics = calculate_metrics(y_test_ml[-min_test_len:], lstm_base_test_pred[-min_test_len:])"
   ]
  },
  {
   "cell_type": "code",
   "execution_count": 57,
   "id": "c8de3ba8",
   "metadata": {},
   "outputs": [
    {
     "name": "stdout",
     "output_type": "stream",
     "text": [
      "--- Performance Comparison: Train vs Test (LSTM Baseline) ---\n",
      "      Train    Test\n",
      "MSE   6.299  56.235\n",
      "MAE   1.504   5.897\n",
      "RMSE  2.510   7.499\n",
      "R2    0.997   0.910\n",
      "MAPE  3.157   2.826\n"
     ]
    }
   ],
   "source": [
    "# performance of the model train vs test\n",
    "print_evaluation_tables(\"LSTM Baseline\", lstm_base_train_metrics, lstm_base_test_metrics)"
   ]
  },
  {
   "cell_type": "markdown",
   "id": "5fef2272",
   "metadata": {},
   "source": [
    "## Optimized Modeling"
   ]
  },
  {
   "cell_type": "code",
   "execution_count": 58,
   "id": "5a1f188e",
   "metadata": {},
   "outputs": [],
   "source": [
    "# define different LSTM hyperparameter configurations for experimentation.\n",
    "lstm_configs = [\n",
    "    {'units': 50, 'dropout': 0.2, 'lr': 0.001},\n",
    "    {'units': 100, 'dropout': 0.3, 'lr': 0.001},\n",
    "    {'units': 50, 'dropout': 0.2, 'lr': 0.0005},\n",
    "]\n",
    "\n",
    "best_val_loss = float('inf')\n",
    "best_config = None\n",
    "best_model = None"
   ]
  },
  {
   "cell_type": "code",
   "execution_count": 59,
   "id": "06d3ace6",
   "metadata": {},
   "outputs": [],
   "source": [
    "# iterate through each LSTM configuration to train and evaluate models.\n",
    "for config in lstm_configs:\n",
    "    model = Sequential([\n",
    "        LSTM(config['units'], return_sequences=True, input_shape=(SEQ_LEN, 1)),\n",
    "        Dropout(config['dropout']),\n",
    "        LSTM(config['units'], return_sequences=False),\n",
    "        Dropout(config['dropout']),\n",
    "        Dense(1)\n",
    "    ])\n",
    "    model.compile(optimizer=Adam(learning_rate=config['lr']), loss='mse')\n",
    "    history = model.fit(X_train_seq, y_train_seq, validation_data=(X_val_seq, y_val_seq),\n",
    "                        epochs=50, batch_size=32, callbacks=[EarlyStopping(patience=10)], verbose=0)\n",
    "    if min(history.history['val_loss']) < best_val_loss:\n",
    "        best_val_loss = min(history.history['val_loss'])\n",
    "        best_config = config\n",
    "        best_model = model"
   ]
  },
  {
   "cell_type": "code",
   "execution_count": 60,
   "id": "bc003a28",
   "metadata": {},
   "outputs": [
    {
     "name": "stdout",
     "output_type": "stream",
     "text": [
      "\u001b[1m82/82\u001b[0m \u001b[32m━━━━━━━━━━━━━━━━━━━━\u001b[0m\u001b[37m\u001b[0m \u001b[1m3s\u001b[0m 19ms/step\n",
      "\u001b[1m10/10\u001b[0m \u001b[32m━━━━━━━━━━━━━━━━━━━━\u001b[0m\u001b[37m\u001b[0m \u001b[1m0s\u001b[0m 15ms/step\n"
     ]
    }
   ],
   "source": [
    "# apply model to make prediction\n",
    "lstm_opt = best_model\n",
    "lstm_opt_train_pred_scaled = lstm_opt.predict(X_train_seq).flatten()\n",
    "lstm_opt_train_pred = scaler.inverse_transform(lstm_opt_train_pred_scaled.reshape(-1, 1)).flatten()\n",
    "lstm_opt_test_pred_scaled = lstm_opt.predict(X_test_seq).flatten()\n",
    "lstm_opt_test_pred = scaler.inverse_transform(lstm_opt_test_pred_scaled.reshape(-1, 1)).flatten()"
   ]
  },
  {
   "cell_type": "code",
   "execution_count": 61,
   "id": "9332c744",
   "metadata": {},
   "outputs": [],
   "source": [
    "# evaluation of the metrics\n",
    "min_train_len = min(len(y_train_ml), len(lstm_opt_train_pred))\n",
    "min_test_len = min(len(y_test_ml), len(lstm_opt_test_pred))\n",
    "lstm_opt_train_metrics = calculate_metrics(y_train_ml[-min_train_len:], lstm_opt_train_pred[-min_train_len:])\n",
    "lstm_opt_test_metrics = calculate_metrics(y_test_ml[-min_test_len:], lstm_opt_test_pred[-min_test_len:])"
   ]
  },
  {
   "cell_type": "code",
   "execution_count": 62,
   "id": "5e05eb4e",
   "metadata": {},
   "outputs": [
    {
     "name": "stdout",
     "output_type": "stream",
     "text": [
      "--- Performance Comparison: Train vs Test (LSTM Optimized) ---\n",
      "      Train    Test\n",
      "MSE   4.171  57.650\n",
      "MAE   1.408   6.231\n",
      "RMSE  2.042   7.593\n",
      "R2    0.998   0.907\n",
      "MAPE  3.565   2.969\n"
     ]
    }
   ],
   "source": [
    "# performance of the model train vs test\n",
    "print_evaluation_tables(\"LSTM Optimized\", lstm_opt_train_metrics, lstm_opt_test_metrics)"
   ]
  },
  {
   "cell_type": "markdown",
   "id": "96878989",
   "metadata": {},
   "source": [
    "## Performance Summary of LSTM Before and After Optimization"
   ]
  },
  {
   "cell_type": "code",
   "execution_count": null,
   "id": "43082bf7",
   "metadata": {},
   "outputs": [
    {
     "name": "stdout",
     "output_type": "stream",
     "text": [
      "Performance Summary for LSTM Models\n",
      "                    MSE    MAE   RMSE     R2   MAPE\n",
      "Baseline_Train    6.299  1.504  2.510  0.997  3.157\n",
      "Baseline_Test    56.235  5.897  7.499  0.910  2.826\n",
      "Optimized_Train   4.171  1.408  2.042  0.998  3.565\n",
      "Optimized_Test   57.650  6.231  7.593  0.907  2.969\n"
     ]
    }
   ],
   "source": [
    "print(\"Performance Summary for LSTM Models\")\n",
    "lstm_summary = pd.DataFrame({\n",
    "    'Baseline_Train': lstm_base_train_metrics,\n",
    "    'Baseline_Test': lstm_base_test_metrics,\n",
    "    'Optimized_Train': lstm_opt_train_metrics,\n",
    "    'Optimized_Test': lstm_opt_test_metrics\n",
    "}).T\n",
    "\n",
    "lstm_summary.round(3)"
   ]
  },
  {
   "cell_type": "code",
   "execution_count": 65,
   "id": "0d0a333a",
   "metadata": {},
   "outputs": [
    {
     "name": "stdout",
     "output_type": "stream",
     "text": [
      "\u001b[1m10/10\u001b[0m \u001b[32m━━━━━━━━━━━━━━━━━━━━\u001b[0m\u001b[37m\u001b[0m \u001b[1m3s\u001b[0m 208ms/step\n"
     ]
    }
   ],
   "source": [
    "# Retrain on Full Data for Final Test\n",
    "y_train_val_scaled = np.concatenate([y_train_scaled, y_val_scaled])\n",
    "X_train_val_seq, y_train_val_seq = create_sequences(y_train_val_scaled, SEQ_LEN)\n",
    "X_train_val_seq = X_train_val_seq.reshape((X_train_val_seq.shape[0], SEQ_LEN, 1))\n",
    "\n",
    "final_lstm = Sequential([\n",
    "    LSTM(best_config['units'], return_sequences=True, input_shape=(SEQ_LEN, 1)),\n",
    "    Dropout(best_config['dropout']),\n",
    "    LSTM(best_config['units'], return_sequences=False),\n",
    "    Dropout(best_config['dropout']),\n",
    "    Dense(1)\n",
    "])\n",
    "\n",
    "final_lstm.compile(optimizer=Adam(learning_rate=best_config['lr']), loss='mse')\n",
    "final_lstm.fit(X_train_val_seq, y_train_val_seq, epochs=50, batch_size=32, \n",
    "               callbacks=[EarlyStopping(patience=10)], verbose=0)\n",
    "\n",
    "lstm_final_test_pred_scaled = final_lstm.predict(X_test_seq).flatten()\n",
    "lstm_final_test_pred = scaler.inverse_transform(lstm_final_test_pred_scaled.reshape(-1, 1)).flatten()\n",
    "\n",
    "num_predictions = len(lstm_final_test_pred)\n",
    "y_test_aligned = y_test[-num_predictions:]\n",
    "final_test_metrics['LSTM'] = calculate_metrics(y_test_aligned, lstm_final_test_pred)"
   ]
  },
  {
   "cell_type": "markdown",
   "id": "5ed46c84",
   "metadata": {},
   "source": [
    "# TIME-SERIES Cross-Validation (on Training Set)"
   ]
  },
  {
   "cell_type": "code",
   "execution_count": 66,
   "id": "501ccc99",
   "metadata": {},
   "outputs": [],
   "source": [
    "# fucntion of time series cross-validation for different model types (ARIMA, XGBoost, LSTM).\n",
    "def perform_ts_cv(model_type, y_train, n_splits=5, **kwargs):\n",
    "    tscv = TimeSeriesSplit(n_splits=n_splits)\n",
    "    metrics_list = []\n",
    "    \n",
    "    for train_idx, val_idx in tscv.split(y_train):\n",
    "        y_tr, y_vl = y_train[train_idx], y_train[val_idx]\n",
    "        \n",
    "        if model_type == 'ARIMA':\n",
    "            \n",
    "            try:\n",
    "                model = auto_arima(y_tr, seasonal=False, stepwise=True, suppress_warnings=True, max_p=3, max_d=2, max_q=3)\n",
    "                pred = model.predict(n_periods=len(y_vl))\n",
    "            \n",
    "            except:\n",
    "                pred = np.full_like(y_vl, y_tr[-1])\n",
    "        \n",
    "        elif model_type == 'XGBoost':\n",
    "            df_tr = create_lagged_features(y_tr, LAGS)\n",
    "            \n",
    "            if len(df_tr) < LAGS + 1:\n",
    "                pred = np.full_like(y_vl, y_tr[-1])\n",
    "            \n",
    "            else:\n",
    "                X_tr, y_tr_ml = df_tr.iloc[:, 1:].values, df_tr.iloc[:, 0].values\n",
    "                df_vl = create_lagged_features(np.concatenate([y_tr[-LAGS:], y_vl]), LAGS)\n",
    "                X_vl = df_vl.iloc[-len(y_vl):, 1:].values\n",
    "                \n",
    "                if len(X_vl) != len(y_vl):\n",
    "                    pred = np.full_like(y_vl, y_tr[-1])\n",
    "                \n",
    "                else:\n",
    "                    model = xgb.XGBRegressor(**kwargs.get('xgb_params', {}), random_state=42)\n",
    "                    model.fit(X_tr, y_tr_ml)\n",
    "                    pred = model.predict(X_vl)\n",
    "        \n",
    "        else:  # LSTM or fallback\n",
    "            pred = np.full_like(y_vl, y_tr[-1])\n",
    "        \n",
    "        metrics = calculate_metrics(y_vl, pred)\n",
    "        metrics_list.append(metrics)\n",
    "    \n",
    "    avg_metrics = {}\n",
    "    \n",
    "    for key in metrics_list[0].keys():\n",
    "        avg_metrics[key] = np.mean([m[key] for m in metrics_list])\n",
    "    \n",
    "    return avg_metrics\n"
   ]
  },
  {
   "cell_type": "markdown",
   "id": "36dc60f9",
   "metadata": {},
   "source": [
    "## Pereform Cross Validation on every model"
   ]
  },
  {
   "cell_type": "code",
   "execution_count": 67,
   "id": "5fc9552b",
   "metadata": {},
   "outputs": [],
   "source": [
    "arima_cv_metrics = perform_ts_cv('ARIMA', y_train)\n",
    "xgb_cv_metrics = perform_ts_cv('XGBoost', y_train, xgb_params=best_xgb_params)\n",
    "lstm_cv_metrics = perform_ts_cv('LSTM', y_train)"
   ]
  },
  {
   "cell_type": "code",
   "execution_count": 69,
   "id": "91daeee5",
   "metadata": {},
   "outputs": [],
   "source": [
    "# CV Metrics\n",
    "cv_metrics_list = [arima_cv_metrics, xgb_cv_metrics, lstm_cv_metrics]\n",
    "models = ['ARIMA', 'XGBoost', 'LSTM']\n",
    "data_cv = pd.DataFrame(cv_metrics_list, index=models)\n",
    "data_cv = data_cv[['MSE', 'MAE', 'RMSE', 'MAPE', 'R2']].round(3)\n",
    "data_cv.columns = ['CV_MSE', 'CV_MAE', 'CV_RMSE', 'CV_MAPE', 'CV_R2']"
   ]
  },
  {
   "cell_type": "code",
   "execution_count": null,
   "id": "726639be",
   "metadata": {},
   "outputs": [
    {
     "name": "stdout",
     "output_type": "stream",
     "text": [
      "Cross-Validation Metrics (Training Set)\n",
      "           CV_MSE  CV_MAE  CV_RMSE  CV_MAPE   CV_R2\n",
      "ARIMA    4388.489  33.470   38.665   36.758 -13.310\n",
      "XGBoost   253.524   9.337   12.778   13.170  -0.576\n",
      "LSTM      317.010  11.897   15.053   20.999  -1.497\n"
     ]
    }
   ],
   "source": [
    "# Performance table of Cross Validation (training set)\n",
    "print(\"Cross-Validation Metrics (Training Set)\")\n",
    "data_cv"
   ]
  },
  {
   "cell_type": "markdown",
   "id": "7fe50914",
   "metadata": {},
   "source": [
    "# Model Comparison"
   ]
  },
  {
   "cell_type": "code",
   "execution_count": 72,
   "id": "45d47b6f",
   "metadata": {},
   "outputs": [],
   "source": [
    "# test set performance\n",
    "data_test = pd.DataFrame(list(final_test_metrics.values()), index=final_test_metrics.keys())\n",
    "data_test = data_test[['MSE', 'MAE', 'RMSE', 'MAPE', 'R2']].round(3)\n",
    "data_test.columns = ['Test_MSE', 'Test_MAE', 'Test_RMSE', 'Test_MAPE', 'Test_R2']"
   ]
  },
  {
   "cell_type": "code",
   "execution_count": null,
   "id": "1ddc4b0b",
   "metadata": {},
   "outputs": [
    {
     "name": "stdout",
     "output_type": "stream",
     "text": [
      "Test Set Metrics of All Model\n",
      "         Test_MSE  Test_MAE  Test_RMSE  Test_MAPE  Test_R2\n",
      "ARIMA     698.581    20.598     26.431      9.533   -0.116\n",
      "XGBoost   608.541    16.622     24.669      7.395    0.028\n",
      "LSTM       18.401     3.451      4.290      1.750    0.970\n"
     ]
    }
   ],
   "source": [
    "print(\"Test Set Metrics of All Model\")\n",
    "data_test"
   ]
  },
  {
   "cell_type": "code",
   "execution_count": 75,
   "id": "3f47d129",
   "metadata": {},
   "outputs": [
    {
     "name": "stdout",
     "output_type": "stream",
     "text": [
      "Combined Results (CV + Test)\n"
     ]
    },
    {
     "data": {
      "text/html": [
       "<div>\n",
       "<style scoped>\n",
       "    .dataframe tbody tr th:only-of-type {\n",
       "        vertical-align: middle;\n",
       "    }\n",
       "\n",
       "    .dataframe tbody tr th {\n",
       "        vertical-align: top;\n",
       "    }\n",
       "\n",
       "    .dataframe thead th {\n",
       "        text-align: right;\n",
       "    }\n",
       "</style>\n",
       "<table border=\"1\" class=\"dataframe\">\n",
       "  <thead>\n",
       "    <tr style=\"text-align: right;\">\n",
       "      <th></th>\n",
       "      <th>CV_MSE</th>\n",
       "      <th>CV_MAE</th>\n",
       "      <th>CV_RMSE</th>\n",
       "      <th>CV_MAPE</th>\n",
       "      <th>CV_R2</th>\n",
       "      <th>Test_MSE</th>\n",
       "      <th>Test_MAE</th>\n",
       "      <th>Test_RMSE</th>\n",
       "      <th>Test_MAPE</th>\n",
       "      <th>Test_R2</th>\n",
       "    </tr>\n",
       "  </thead>\n",
       "  <tbody>\n",
       "    <tr>\n",
       "      <th>ARIMA</th>\n",
       "      <td>4388.489</td>\n",
       "      <td>33.470</td>\n",
       "      <td>38.665</td>\n",
       "      <td>36.758</td>\n",
       "      <td>-13.310</td>\n",
       "      <td>698.581</td>\n",
       "      <td>20.598</td>\n",
       "      <td>26.431</td>\n",
       "      <td>9.533</td>\n",
       "      <td>-0.116</td>\n",
       "    </tr>\n",
       "    <tr>\n",
       "      <th>XGBoost</th>\n",
       "      <td>253.524</td>\n",
       "      <td>9.337</td>\n",
       "      <td>12.778</td>\n",
       "      <td>13.170</td>\n",
       "      <td>-0.576</td>\n",
       "      <td>608.541</td>\n",
       "      <td>16.622</td>\n",
       "      <td>24.669</td>\n",
       "      <td>7.395</td>\n",
       "      <td>0.028</td>\n",
       "    </tr>\n",
       "    <tr>\n",
       "      <th>LSTM</th>\n",
       "      <td>317.010</td>\n",
       "      <td>11.897</td>\n",
       "      <td>15.053</td>\n",
       "      <td>20.999</td>\n",
       "      <td>-1.497</td>\n",
       "      <td>18.401</td>\n",
       "      <td>3.451</td>\n",
       "      <td>4.290</td>\n",
       "      <td>1.750</td>\n",
       "      <td>0.970</td>\n",
       "    </tr>\n",
       "  </tbody>\n",
       "</table>\n",
       "</div>"
      ],
      "text/plain": [
       "           CV_MSE  CV_MAE  CV_RMSE  CV_MAPE   CV_R2  Test_MSE  Test_MAE  \\\n",
       "ARIMA    4388.489  33.470   38.665   36.758 -13.310   698.581    20.598   \n",
       "XGBoost   253.524   9.337   12.778   13.170  -0.576   608.541    16.622   \n",
       "LSTM      317.010  11.897   15.053   20.999  -1.497    18.401     3.451   \n",
       "\n",
       "         Test_RMSE  Test_MAPE  Test_R2  \n",
       "ARIMA       26.431      9.533   -0.116  \n",
       "XGBoost     24.669      7.395    0.028  \n",
       "LSTM         4.290      1.750    0.970  "
      ]
     },
     "execution_count": 75,
     "metadata": {},
     "output_type": "execute_result"
    }
   ],
   "source": [
    "# Combined Results\n",
    "comp = pd.concat([data_cv, data_test], axis=1)\n",
    "print(\"Combined Results (CV + Test)\")\n",
    "comp"
   ]
  },
  {
   "cell_type": "markdown",
   "id": "7aaaf285",
   "metadata": {},
   "source": [
    "# Overfitting Analysis"
   ]
  },
  {
   "cell_type": "code",
   "execution_count": 76,
   "id": "d1f9fd27",
   "metadata": {},
   "outputs": [],
   "source": [
    "overfit_df = pd.DataFrame({\n",
    "    'Model': models,\n",
    "    'CV_RMSE': data_cv['CV_RMSE'].values,\n",
    "    'Test_RMSE': data_test['Test_RMSE'].values\n",
    "})\n",
    "\n",
    "overfit_df['RMSE_Increase'] = overfit_df['Test_RMSE'] - overfit_df['CV_RMSE']\n",
    "overfit_df['Overfitting_Ratio'] = overfit_df['Test_RMSE'] / overfit_df['CV_RMSE']"
   ]
  },
  {
   "cell_type": "code",
   "execution_count": 78,
   "id": "c653ead3",
   "metadata": {},
   "outputs": [
    {
     "name": "stdout",
     "output_type": "stream",
     "text": [
      "Overfitting Analysis of all Models\n"
     ]
    },
    {
     "data": {
      "text/html": [
       "<div>\n",
       "<style scoped>\n",
       "    .dataframe tbody tr th:only-of-type {\n",
       "        vertical-align: middle;\n",
       "    }\n",
       "\n",
       "    .dataframe tbody tr th {\n",
       "        vertical-align: top;\n",
       "    }\n",
       "\n",
       "    .dataframe thead th {\n",
       "        text-align: right;\n",
       "    }\n",
       "</style>\n",
       "<table border=\"1\" class=\"dataframe\">\n",
       "  <thead>\n",
       "    <tr style=\"text-align: right;\">\n",
       "      <th></th>\n",
       "      <th>Model</th>\n",
       "      <th>CV_RMSE</th>\n",
       "      <th>Test_RMSE</th>\n",
       "      <th>RMSE_Increase</th>\n",
       "      <th>Overfitting_Ratio</th>\n",
       "    </tr>\n",
       "  </thead>\n",
       "  <tbody>\n",
       "    <tr>\n",
       "      <th>0</th>\n",
       "      <td>ARIMA</td>\n",
       "      <td>38.665</td>\n",
       "      <td>26.431</td>\n",
       "      <td>-12.234</td>\n",
       "      <td>0.684</td>\n",
       "    </tr>\n",
       "    <tr>\n",
       "      <th>1</th>\n",
       "      <td>XGBoost</td>\n",
       "      <td>12.778</td>\n",
       "      <td>24.669</td>\n",
       "      <td>11.891</td>\n",
       "      <td>1.931</td>\n",
       "    </tr>\n",
       "    <tr>\n",
       "      <th>2</th>\n",
       "      <td>LSTM</td>\n",
       "      <td>15.053</td>\n",
       "      <td>4.290</td>\n",
       "      <td>-10.763</td>\n",
       "      <td>0.285</td>\n",
       "    </tr>\n",
       "  </tbody>\n",
       "</table>\n",
       "</div>"
      ],
      "text/plain": [
       "     Model  CV_RMSE  Test_RMSE  RMSE_Increase  Overfitting_Ratio\n",
       "0    ARIMA   38.665     26.431        -12.234              0.684\n",
       "1  XGBoost   12.778     24.669         11.891              1.931\n",
       "2     LSTM   15.053      4.290        -10.763              0.285"
      ]
     },
     "execution_count": 78,
     "metadata": {},
     "output_type": "execute_result"
    }
   ],
   "source": [
    "print(\"Overfitting Analysis of all Models\")\n",
    "overfit_df.round(3)"
   ]
  },
  {
   "cell_type": "code",
   "execution_count": 79,
   "id": "07907eb4",
   "metadata": {},
   "outputs": [
    {
     "data": {
      "image/png": "[encoded data removed]",
      "text/plain": [
       "<Figure size 1000x600 with 1 Axes>"
      ]
     },
     "metadata": {},
     "output_type": "display_data"
    }
   ],
   "source": [
    "\"\"\" visualize overfitting \"\"\"\n",
    "plt.figure(figsize=(10, 6))\n",
    "x = np.arange(len(models))\n",
    "plt.bar(x - 0.2, overfit_df['CV_RMSE'], width=0.4, label='CV RMSE')\n",
    "plt.bar(x + 0.2, overfit_df['Test_RMSE'], width=0.4, label='Test RMSE')\n",
    "plt.xticks(x, models)\n",
    "plt.ylabel('RMSE')\n",
    "plt.title('CV vs Test RMSE: Overfitting Diagnosis')\n",
    "plt.legend()\n",
    "plt.tight_layout()\n",
    "plt.show()"
   ]
  },
  {
   "cell_type": "code",
   "execution_count": null,
   "id": "613e44a0",
   "metadata": {},
   "outputs": [],
   "source": []
  }
 ],
 "metadata": {
  "kernelspec": {
   "display_name": "Python 3",
   "language": "python",
   "name": "python3"
  },
  "language_info": {
   "codemirror_mode": {
    "name": "ipython",
    "version": 3
   },
   "file_extension": ".py",
   "mimetype": "text/x-python",
   "name": "python",
   "nbconvert_exporter": "python",
   "pygments_lexer": "ipython3",
   "version": "3.10.0"
  }
 },
 "nbformat": 4,
 "nbformat_minor": 5
}
